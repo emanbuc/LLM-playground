{
  "nbformat": 4,
  "nbformat_minor": 0,
  "metadata": {
    "colab": {
      "provenance": [],
      "authorship_tag": "ABX9TyNpGJt+UxPbLga0lMK7offY",
      "include_colab_link": true
    },
    "kernelspec": {
      "name": "python3",
      "display_name": "Python 3"
    },
    "language_info": {
      "name": "python"
    }
  },
  "cells": [
    {
      "cell_type": "markdown",
      "metadata": {
        "id": "view-in-github",
        "colab_type": "text"
      },
      "source": [
        "<a href=\"https://colab.research.google.com/github/emanbuc/LLM-playground/blob/master/test_anthropic.ipynb\" target=\"_parent\"><img src=\"https://colab.research.google.com/assets/colab-badge.svg\" alt=\"Open In Colab\"/></a>"
      ]
    },
    {
      "cell_type": "code",
      "source": [
        "!pip install anthropic"
      ],
      "metadata": {
        "id": "TaX5Xl-2422z"
      },
      "execution_count": null,
      "outputs": []
    },
    {
      "cell_type": "code",
      "source": [
        "#carica API KEY da secret di Google Colab\n",
        "from google.colab import userdata\n",
        "anthropic_key=userdata.get('anthropic-key-nomos-ai')"
      ],
      "metadata": {
        "id": "RcRQngXB49yL"
      },
      "execution_count": null,
      "outputs": []
    },
    {
      "cell_type": "code",
      "source": [
        "from google.colab import drive\n",
        "drive.mount('/gdrive')"
      ],
      "metadata": {
        "id": "N2F87R-46P2h"
      },
      "execution_count": null,
      "outputs": []
    },
    {
      "cell_type": "code",
      "source": [
        "def get_timestamp_string():\n",
        "  from datetime import datetime\n",
        "\n",
        "  current_timestamp = datetime.now()\n",
        "  timestamp_string = current_timestamp.strftime(\"%Y%m%d%H%M%S\")\n",
        "  return timestamp_string\n"
      ],
      "metadata": {
        "id": "Jd6pKBQW7Kv7"
      },
      "execution_count": null,
      "outputs": []
    },
    {
      "cell_type": "code",
      "source": [
        "def save_output_as_text_file(filename,text_content):\n",
        "  with open('/gdrive/My Drive/Massime/'+filename+'.txt', 'w') as f:\n",
        "    f.write(text_content)"
      ],
      "metadata": {
        "id": "IwPuCwaZuCzF"
      },
      "execution_count": null,
      "outputs": []
    },
    {
      "cell_type": "code",
      "source": [
        "system_message_contentA=\"\"\"Ti chiedo di procedere all’estrazione della “massima” delle sentenze che ti riporterò, con specifico riferimento alla questione di fatto deciso dalle sentenze. Come sai, la “massima” consiste nel principio di diritto, nella “ratio decidendi” in ragione della quale il giudice ha deciso.\n",
        "\n",
        "Le sentenze che ti riporterò sono scritte da giudici amministrativi italiani, emanate pertanto dai tribunali amministrativi regionali e dal Consiglio di Stato di Stato dello Stato italiano;\n",
        "\n",
        "I Criteri di redazione delle massime sono i seguenti:\n",
        "\n",
        "a)              evitare sempre astratte enunciazioni o mere descrizioni casi concreti;\n",
        "\n",
        "b)             mai riportare le argomentazioni giuridiche a sostegno o contro una certa tesi;\n",
        "\n",
        "c)       Non occorre massimare la decisione sulle spese processuali;\n",
        "\n",
        "d)      la massima deve essere formulata solo con riferimento alla questione di diritto che il giudice è chiamato a decidere e che ha effettivamente deciso; successivamente all’enunciazione della massima, in calce alla stessa, è fondamentale la fattispecie concreta, senza far riferimento ai nomi propri dei soggetti convolti, specificando brevemente come è stato deciso il fatto e spiegando in che modo la massima è stata applicata al caso concreto (puoi introdurre quest’ultima parte, relativa a come è stata applicata la massima alla fattispecie concreta, in questo modo: nella fattispecie concreta, Il Tribunale ha deciso che…)\n",
        "\n",
        "e)       in presenza di più questioni di diritto risolte all’interno della stessa sentenza è necessario redigere più massime (ad ogni questione corrisponde una massima); ogni massima che si riferisce alla questione risolta deve essere seguita da un numero arabo, progressivo, fra parentesi; anche in questo caso, come nel caso d), successivamente all’enunciazione di ciascuna massima, in calce alla stessa, è fondamentale indicare la fattispecie concreta senza far riferimento ai nomi propri dei soggetti convolti, specificando come è stato deciso il fatto e spiegando in che modo la massima è stata applicata al caso concreto (puoi introdurre quest’ultima parte, relativa a come è stata applicata la massima alla fattispecie concreta, in questo modo: nella fattispecie concreta, Il Tribunale ha deciso che…);\n",
        "\n",
        "\n",
        "\n",
        "Voglio quindi informarti circa i potenziali lettori del nostro lavoro:\n",
        "\n",
        "I destinatari dei tuoi risultati saranno i magistrati che utilizzeranno le informazioni che abbiamo generato come un precedente utile per decidere le future cause uguali o simili e gli avvocati che utilizzeranno queste stesse informazioni per consigliare i propri clienti e per affrontare le cause che patrocinano.\n",
        "\n",
        "Infine, per permettere al lettore di comprendere meglio la massima (oppure le massime), prima di procedere all’estrazione della massima (o delle massime)  secondo i criteri che ti ho dato, e di illustrarla (oppure di illustrarle), ti chiedo di :\n",
        "\n",
        "1)    Fare un breve riassunto della sentenza, con riferimento ai fatti oggetto di decisione;\n",
        "\n",
        "2)    Quindi, suddividere la sentenza con riferimento ai punti di diritto da decidere;\n",
        "\n",
        "Tutto quanto sopra descritto ti chiedo di esporlo in lingua italiana distinguendo, anche graficamente, le singole parti che ti riepilogo:\n",
        "\n",
        "-        Step 1: Riassunto della Sentenza;\n",
        "\n",
        "-        Step 2: Punti di diritto decisi;\n",
        "\n",
        "-        Step 3: Massime,  con in calce l’applicazione del principio di diritto al caso concreto;\n",
        "\n",
        "-        Step 4: Nome e cognome dell'estensore\n",
        "\"\"\"\n"
      ],
      "metadata": {
        "id": "Jmm_pg1UtdR8"
      },
      "execution_count": null,
      "outputs": []
    },
    {
      "cell_type": "code",
      "source": [
        "system_message_contentB=\"\"\"\n",
        "Ti chiedo di procedere all’analisi della sentenza che copierò di seguito, rispettando i seguenti criteri.\n",
        "\n",
        "L’obiettivo dell’analisi è l’estrazione della massima, ovvero del principio di diritto  ovvero della “ratio decidendi” in ragione della quale il giudice ha deciso la causa sottoposta alla sua attenzione.\n",
        "\n",
        "Le sentenze che ti riporterò sono scritte da giudici amministrativi italiani, emanate pertanto dai tribunali amministrativi regionali e dal Consiglio di Stato di Stato dello Stato italiano;\n",
        "\n",
        "I Criteri di redazione del principio di diritto sono i seguenti:\n",
        "\n",
        "a)              evitare sempre astratte enunciazioni o mere descrizioni casi concreti;\n",
        "\n",
        "b)             mai riportare le argomentazioni giuridiche a sostegno o contro una certa tesi;\n",
        "\n",
        "c)       Non occorre riportare la decisione sulle spese processuali;\n",
        "\n",
        "d)      la massima, ovvero il principio di diritto,  devono essere formulati solo con riferimento alla questione di diritto che il giudice è chiamato a decidere e che ha effettivamente deciso; successivamente all’enunciazione del principio di diritto, in calce alla stessa, è fondamentale riportare la fattispecie concreta, senza far riferimento ai nomi propri dei soggetti convolti, specificando come è stato deciso il fatto, anche con riferimento alle norme di Legge applicate, e spiegando in maniera più ampia e argomentata possibile in quale modo il principio di diritto è stata applicato al caso concreto, ma contenendo comunque questa descrizione della fattispecie concreta in massimo 120 parole (puoi introdurre quest’ultima parte, relativa a come è stata applicata il principio di diritto alla fattispecie concreta, in questo modo: nella fattispecie concreta, Il Tribunale ha deciso che… ). Nel riferimento alla fattispecie concreta ti chiederei di anonimizzare i nomi propri sostituendo i nomi propri, se questi ve ne sono, con la dicitura  “xxx” ( e non con “alias”);\n",
        "\n",
        "e)       in presenza di più questioni di diritto, ovvero massime, risolte all’interno della stessa sentenza è necessario redigere più principi di diritto, ovvero massime: ad ogni questione corrisponde un principio di diritto; ogni principio di diritto o massima, che si riferisce alla questione risolta deve essere seguita da un numero arabo, progressivo, fra parentesi; anche in questo caso, come nel caso d), successivamente all’enunciazione di ciascun principio di diritto (o massima), in calce alla stessa, è fondamentale indicare la fattispecie concreta senza far riferimento ai nomi propri dei soggetti convolti, specificando come è stato deciso il fatto, anche con riferimento alle norme di Legge applicate, e spiegando in maniera più ampia e argomentata possibile in quale modo il principio di diritto è stata applicato al caso concreto, ma contenendo comunque questa descrizione della fattispecie concreta in massimo 120 parole (puoi introdurre quest’ultima parte, relativa a come è stata applicato il principio di diritto alla fattispecie concreta, in questo modo: nella fattispecie concreta, Il Tribunale ha deciso che…). Nel riferimento alla fattispecie concreta ti chiederei di anonimizzare i nomi propri sostituendo i nomi propri, se questi ve ne sono, con la dicitura  “xxx” ( e non con “alias”).\n",
        "\n",
        "Voglio quindi informarti circa i potenziali lettori del nostro lavoro:\n",
        "\n",
        "I destinatari dei tuoi risultati saranno i magistrati che utilizzeranno le informazioni che hai generato come un precedente utile per decidere le future cause uguali o simili, nonché gli avvocati che utilizzeranno queste stesse informazioni per consigliare i propri clienti per affrontare le cause che patrocinano.\n",
        "\n",
        "Infine, per permettere a chi legge di comprendere meglio la massima (o le massime) o il principio di diritto (o i principi di diritti)  illustrati, secondo i criteri che ti ho dato, ti chiedo di  anticipare al lettere le seguenti informazioni:\n",
        "\n",
        "1)    un breve riassunto della sentenza, con riferimento ai fatti oggetto di decisione;\n",
        "\n",
        "2)    una suddivisione  della sentenza con riferimento ai punti di diritto decisi (non occorre fare riferimenti a come è stato deciso, perché lo spiegherai successivamente nell’illustrazione del principio di diritto e nella descrizione della fattispecie concreta);\n",
        "\n",
        "Tutto quanto sopra descritto ti chiedo di esporlo in lingua italiana distinguendo, anche graficamente, le singole parti che ti riepilogo:\n",
        "\n",
        "-        Step 1: Riassunto della Sentenza;\n",
        "\n",
        "-        Step 2: Punti di diritto decisi;\n",
        "\n",
        "-        Step 3: Principi di diritto o massime (evidenziandole in grassetto) bold text),  con in calce l’applicazione del principio di diritto al caso concreto con l’ampiezza massima che ho indicato e con l’anonimizzazione che ti ho chiesto;\n",
        "\n",
        "-        Step 4: Riportare il nome dell’estensore. In questo caso puoi riportare il nome dell’estensore e non occorre anonimizzarlo.\n",
        "\"\"\""
      ],
      "metadata": {
        "id": "-iK6U_Ye0Ngs"
      },
      "execution_count": null,
      "outputs": []
    },
    {
      "cell_type": "code",
      "source": [
        "import os\n",
        "\n",
        "# Definisci la cartella di cui vuoi leggere i file di testo\n",
        "cartella = '/gdrive/My Drive/Sentenze'\n",
        "\n",
        "# Lista per memorizzare i contenuti dei file di testo\n",
        "contenuti_file = []\n",
        "\n",
        "import anthropic\n",
        "\n",
        "client = anthropic.Anthropic(\n",
        "    # defaults to os.environ.get(\"ANTHROPIC_API_KEY\")\n",
        "    api_key=anthropic_key,\n",
        ")\n",
        "\n",
        "# Scorrere tutti i file nella cartella\n",
        "for file in os.listdir(cartella):\n",
        "    # Verifica se il file è un file di testo\n",
        "    if file.endswith('.txt'):\n",
        "        # Costruisci il percorso completo al file\n",
        "        percorso_file = os.path.join(cartella, file)\n",
        "        # Apri il file e leggi il contenuto\n",
        "        with open(percorso_file, 'r') as f:\n",
        "            contenuto = f.read()\n",
        "            print(\"FILE: \"+file)\n",
        "            print(contenuto)\n",
        "            #contenuti_file.append(contenuto)\n",
        "            user_message_content = contenuto\n",
        "\n",
        "            message = client.messages.create(\n",
        "                model=\"claude-3-opus-20240229\",\n",
        "                max_tokens=1000,\n",
        "                temperature=0,\n",
        "                system=system_message_contentB,\n",
        "                messages=[\n",
        "                    {\n",
        "                        \"role\": \"user\",\n",
        "                        \"content\": [\n",
        "                            {\n",
        "                                \"type\": \"text\",\n",
        "                                \"text\": user_message_content\n",
        "                            }\n",
        "                        ]\n",
        "                    }\n",
        "                ]\n",
        "            )\n",
        "            print(message.content)\n",
        "            save_output_as_text_file(file+\"_claude-3-opus-20240229_promtB\"+get_timestamp_string(),message.content[0].text)\n",
        "\n"
      ],
      "metadata": {
        "id": "2qe19qbUjvY1"
      },
      "execution_count": null,
      "outputs": []
    },
    {
      "cell_type": "code",
      "source": [
        "message.content[0].text"
      ],
      "metadata": {
        "id": "49kwVVxC78pE"
      },
      "execution_count": null,
      "outputs": []
    }
  ]
}