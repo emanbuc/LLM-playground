{
  "nbformat": 4,
  "nbformat_minor": 0,
  "metadata": {
    "colab": {
      "provenance": [],
      "authorship_tag": "ABX9TyOjbz5s3pPpS/1t0QW5Dyy3",
      "include_colab_link": true
    },
    "kernelspec": {
      "name": "python3",
      "display_name": "Python 3"
    },
    "language_info": {
      "name": "python"
    }
  },
  "cells": [
    {
      "cell_type": "markdown",
      "metadata": {
        "id": "view-in-github",
        "colab_type": "text"
      },
      "source": [
        "<a href=\"https://colab.research.google.com/github/emanbuc/LLM-playground/blob/master/test_anthropic.ipynb\" target=\"_parent\"><img src=\"https://colab.research.google.com/assets/colab-badge.svg\" alt=\"Open In Colab\"/></a>"
      ]
    },
    {
      "cell_type": "code",
      "source": [
        "!pip install anthropic"
      ],
      "metadata": {
        "id": "TaX5Xl-2422z"
      },
      "execution_count": null,
      "outputs": []
    },
    {
      "cell_type": "code",
      "source": [
        "#carica API KEY da secret di Google Colab\n",
        "from google.colab import userdata\n",
        "anthropic-key= userdata.get('anthropic-key-nomos-ai')"
      ],
      "metadata": {
        "id": "RcRQngXB49yL"
      },
      "execution_count": null,
      "outputs": []
    },
    {
      "cell_type": "code",
      "source": [
        "from google.colab import drive\n",
        "drive.mount('/gdrive')"
      ],
      "metadata": {
        "colab": {
          "base_uri": "https://localhost:8080/"
        },
        "id": "N2F87R-46P2h",
        "outputId": "7cac24dd-2936-418b-ce6c-06b68a4afcc4"
      },
      "execution_count": null,
      "outputs": [
        {
          "output_type": "stream",
          "name": "stdout",
          "text": [
            "Mounted at /gdrive\n"
          ]
        }
      ]
    },
    {
      "cell_type": "code",
      "source": [
        "system_message_contentA=\"\"\"Ti chiedo di procedere all’estrazione della “massima” delle sentenze che ti riporterò, con specifico riferimento alla questione di fatto deciso dalle sentenze. Come sai, la “massima” consiste nel principio di diritto, nella “ratio decidendi” in ragione della quale il giudice ha deciso.\n",
        "\n",
        "Le sentenze che ti riporterò sono scritte da giudici amministrativi italiani, emanate pertanto dai tribunali amministrativi regionali e dal Consiglio di Stato di Stato dello Stato italiano;\n",
        "\n",
        "I Criteri di redazione delle massime sono i seguenti:\n",
        "\n",
        "a)              evitare sempre astratte enunciazioni o mere descrizioni casi concreti;\n",
        "\n",
        "b)             mai riportare le argomentazioni giuridiche a sostegno o contro una certa tesi;\n",
        "\n",
        "c)       Non occorre massimare la decisione sulle spese processuali;\n",
        "\n",
        "d)      la massima deve essere formulata solo con riferimento alla questione di diritto che il giudice è chiamato a decidere e che ha effettivamente deciso; successivamente all’enunciazione della massima, in calce alla stessa, è fondamentale la fattispecie concreta, senza far riferimento ai nomi propri dei soggetti convolti, specificando brevemente come è stato deciso il fatto e spiegando in che modo la massima è stata applicata al caso concreto (puoi introdurre quest’ultima parte, relativa a come è stata applicata la massima alla fattispecie concreta, in questo modo: nella fattispecie concreta, Il Tribunale ha deciso che…)\n",
        "\n",
        "e)       in presenza di più questioni di diritto risolte all’interno della stessa sentenza è necessario redigere più massime (ad ogni questione corrisponde una massima); ogni massima che si riferisce alla questione risolta deve essere seguita da un numero arabo, progressivo, fra parentesi; anche in questo caso, come nel caso d), successivamente all’enunciazione di ciascuna massima, in calce alla stessa, è fondamentale indicare la fattispecie concreta senza far riferimento ai nomi propri dei soggetti convolti, specificando come è stato deciso il fatto e spiegando in che modo la massima è stata applicata al caso concreto (puoi introdurre quest’ultima parte, relativa a come è stata applicata la massima alla fattispecie concreta, in questo modo: nella fattispecie concreta, Il Tribunale ha deciso che…);\n",
        "\n",
        "\n",
        "\n",
        "Voglio quindi informarti circa i potenziali lettori del nostro lavoro:\n",
        "\n",
        "I destinatari dei tuoi risultati saranno i magistrati che utilizzeranno le informazioni che abbiamo generato come un precedente utile per decidere le future cause uguali o simili e gli avvocati che utilizzeranno queste stesse informazioni per consigliare i propri clienti e per affrontare le cause che patrocinano.\n",
        "\n",
        "Infine, per permettere al lettore di comprendere meglio la massima (oppure le massime), prima di procedere all’estrazione della massima (o delle massime)  secondo i criteri che ti ho dato, e di illustrarla (oppure di illustrarle), ti chiedo di :\n",
        "\n",
        "1)    Fare un breve riassunto della sentenza, con riferimento ai fatti oggetto di decisione;\n",
        "\n",
        "2)    Quindi, suddividere la sentenza con riferimento ai punti di diritto da decidere;\n",
        "\n",
        "Tutto quanto sopra descritto ti chiedo di esporlo in lingua italiana distinguendo, anche graficamente, le singole parti che ti riepilogo:\n",
        "\n",
        "-        Step 1: Riassunto della Sentenza;\n",
        "\n",
        "-        Step 2: Punti di diritto decisi;\n",
        "\n",
        "-        Step 3: Massime,  con in calce l’applicazione del principio di diritto al caso concreto;\n",
        "\n",
        "-        Step 4: Nome e cognome dell'estensore\n",
        "\"\"\"\n"
      ],
      "metadata": {
        "id": "Jmm_pg1UtdR8"
      },
      "execution_count": null,
      "outputs": []
    },
    {
      "cell_type": "code",
      "source": [
        "system_message_contentB=\"\"\"\n",
        "Ti chiedo di procedere all’analisi della sentenza che copierò di seguito, rispettando i seguenti criteri.\n",
        "\n",
        "L’obiettivo dell’analisi è l’estrazione della massima, ovvero del principio di diritto  ovvero della “ratio decidendi” in ragione della quale il giudice ha deciso la causa sottoposta alla sua attenzione.\n",
        "\n",
        "Le sentenze che ti riporterò sono scritte da giudici amministrativi italiani, emanate pertanto dai tribunali amministrativi regionali e dal Consiglio di Stato di Stato dello Stato italiano;\n",
        "\n",
        "I Criteri di redazione del principio di diritto sono i seguenti:\n",
        "\n",
        "a)              evitare sempre astratte enunciazioni o mere descrizioni casi concreti;\n",
        "\n",
        "b)             mai riportare le argomentazioni giuridiche a sostegno o contro una certa tesi;\n",
        "\n",
        "c)       Non occorre riportare la decisione sulle spese processuali;\n",
        "\n",
        "d)      la massima, ovvero il principio di diritto,  devono essere formulati solo con riferimento alla questione di diritto che il giudice è chiamato a decidere e che ha effettivamente deciso; successivamente all’enunciazione del principio di diritto, in calce alla stessa, è fondamentale riportare la fattispecie concreta, senza far riferimento ai nomi propri dei soggetti convolti, specificando come è stato deciso il fatto, anche con riferimento alle norme di Legge applicate, e spiegando in maniera più ampia e argomentata possibile in quale modo il principio di diritto è stata applicato al caso concreto, ma contenendo comunque questa descrizione della fattispecie concreta in massimo 120 parole (puoi introdurre quest’ultima parte, relativa a come è stata applicata il principio di diritto alla fattispecie concreta, in questo modo: nella fattispecie concreta, Il Tribunale ha deciso che… ). Nel riferimento alla fattispecie concreta ti chiederei di anonimizzare i nomi propri sostituendo i nomi propri, se questi ve ne sono, con la dicitura  “xxx” ( e non con “alias”);\n",
        "\n",
        "e)       in presenza di più questioni di diritto, ovvero massime, risolte all’interno della stessa sentenza è necessario redigere più principi di diritto, ovvero massime: ad ogni questione corrisponde un principio di diritto; ogni principio di diritto o massima, che si riferisce alla questione risolta deve essere seguita da un numero arabo, progressivo, fra parentesi; anche in questo caso, come nel caso d), successivamente all’enunciazione di ciascun principio di diritto (o massima), in calce alla stessa, è fondamentale indicare la fattispecie concreta senza far riferimento ai nomi propri dei soggetti convolti, specificando come è stato deciso il fatto, anche con riferimento alle norme di Legge applicate, e spiegando in maniera più ampia e argomentata possibile in quale modo il principio di diritto è stata applicato al caso concreto, ma contenendo comunque questa descrizione della fattispecie concreta in massimo 120 parole (puoi introdurre quest’ultima parte, relativa a come è stata applicato il principio di diritto alla fattispecie concreta, in questo modo: nella fattispecie concreta, Il Tribunale ha deciso che…). Nel riferimento alla fattispecie concreta ti chiederei di anonimizzare i nomi propri sostituendo i nomi propri, se questi ve ne sono, con la dicitura  “xxx” ( e non con “alias”).\n",
        "\n",
        "Voglio quindi informarti circa i potenziali lettori del nostro lavoro:\n",
        "\n",
        "I destinatari dei tuoi risultati saranno i magistrati che utilizzeranno le informazioni che hai generato come un precedente utile per decidere le future cause uguali o simili, nonché gli avvocati che utilizzeranno queste stesse informazioni per consigliare i propri clienti per affrontare le cause che patrocinano.\n",
        "\n",
        "Infine, per permettere a chi legge di comprendere meglio la massima (o le massime) o il principio di diritto (o i principi di diritti)  illustrati, secondo i criteri che ti ho dato, ti chiedo di  anticipare al lettere le seguenti informazioni:\n",
        "\n",
        "1)    un breve riassunto della sentenza, con riferimento ai fatti oggetto di decisione;\n",
        "\n",
        "2)    una suddivisione  della sentenza con riferimento ai punti di diritto decisi (non occorre fare riferimenti a come è stato deciso, perché lo spiegherai successivamente nell’illustrazione del principio di diritto e nella descrizione della fattispecie concreta);\n",
        "\n",
        "Tutto quanto sopra descritto ti chiedo di esporlo in lingua italiana distinguendo, anche graficamente, le singole parti che ti riepilogo:\n",
        "\n",
        "-        Step 1: Riassunto della Sentenza;\n",
        "\n",
        "-        Step 2: Punti di diritto decisi;\n",
        "\n",
        "-        Step 3: Principi di diritto o massime (evidenziandole in grassetto) bold text),  con in calce l’applicazione del principio di diritto al caso concreto con l’ampiezza massima che ho indicato e con l’anonimizzazione che ti ho chiesto;\n",
        "\n",
        "-        Step 4: Riportare il nome dell’estensore. In questo caso puoi riportare il nome dell’estensore e non occorre anonimizzarlo.\n",
        "\"\"\""
      ],
      "metadata": {
        "id": "-iK6U_Ye0Ngs"
      },
      "execution_count": null,
      "outputs": []
    },
    {
      "cell_type": "code",
      "execution_count": null,
      "metadata": {
        "id": "2tz8XY4R40uq"
      },
      "outputs": [],
      "source": [
        "import anthropic\n",
        "\n",
        "client = anthropic.Anthropic(\n",
        "    # defaults to os.environ.get(\"ANTHROPIC_API_KEY\")\n",
        "    api_key=anthropic-key\n",
        ")\n",
        "message = client.messages.create(\n",
        "    model=\"claude-3-opus-20240229\",\n",
        "    max_tokens=1000,\n",
        "    temperature=0,\n",
        "    system=system_message_contentB,\n",
        "    messages=[\n",
        "        {\n",
        "            \"role\": \"user\",\n",
        "            \"content\": [\n",
        "                {\n",
        "                    \"type\": \"text\",\n",
        "                    \"text\": \"Il Consiglio di Stato\\nin sede giurisdizionale (Sezione Terza)\\nha pronunciato la presente\\nSENTENZA\\nsul ricorso numero di registro generale 4049 del 2023, proposto da Sanitaservice A.S.L. Lecce S.r.l. unipersonale, in persona del legale rappresentante pro tempore, rappresentata e difesa dall’avvocato Domenico Mastrolia, con domicilio digitale come da PEC da Registri di Giustizia;\\ncontro\\nFlexicare S.r.l., in persona del legale rappresentante pro tempore, rappresentata e difesa dall’avvocato Massimo Cocco, con domicilio digitale come da PEC da Registri di Giustizia;\\nnei confronti\\nA.S.L. Lecce, Tecoservice S.r.l., Gipi Service di Pierri Luciano, non costituite in giudizio;\\nper la riforma\\ndella sentenza del Tribunale Amministrativo Regionale per la Puglia, sezione staccata di Lecce (Sezione Terza) n. 00191/2023, resa tra le parti, concernente noleggio di apparecchi per la nebulizzazione di prodotti disinfettanti da destinare alle attività di Sanità Service ASL Lecce;\\n\\nVisti il ricorso in appello e i relativi allegati;\\nVisto l’atto di costituzione in giudizio di Flexicare S.r.l.;\\nVisti tutti gli atti della causa;\\nRelatore nell’udienza pubblica del giorno 13 luglio 2023 il Cons. Pierfrancesco Ungari e viste le conclusioni delle parti come da verbale;\\nRitenuto e considerato in fatto e diritto quanto segue.\\n\\nFATTO e DIRITTO\\n1. L’offerta della Flexicare S.r.l. – risultata la più bassa nella gara ufficiosa indetta, ex artt. 36 comma 2, lett. b) e 95, comma 4 lett. b), del d.lgs. 50/2016, per il noleggio, per la durata di cinque anni, di 20 apparecchi per la nebulizzazione di prodotti disinfettanti da destinare alle attività della Sanitaservice ASL LE S.r.l. unipersonale – è stata valutata anormalmente bassa e pertanto esclusa dalla gara, mediante determina dirigenziale n. 158 dell’11 maggio 2021.\\n2. La procedura negoziata, con il medesimo provvedimento, è stata quindi aggiudicata alla seconda classificata, Tecoservice S.r.l..\\n3. Flexicare ha impugnato il provvedimento dinanzi al TAR di Lecce.\\n4. In pendenza di giudizio, con determina n. 165 del 24 giugno 2021, Sanitaservice ha disposto l’annullamento d’ufficio dell’aggiudicazione e la revoca dell’intera procedura di gara, posto che l’offerta Tecoservice “non presentava la conformità e le qualità della caratteristiche tecniche dei prodotti per come previste nel capitolato tecnico e in quello speciale d’appalto”, e “a prescindere dal fatto che è rimasta una unica offerta valida (quella della Item Oxygen s.r.l., terza classificata) … per ragioni di opportunità legate a nuove valutazioni e nuove esigenze dell’Amministrazione che ritiene inopportuno e sconsigliabile la prosecuzione della gara atta ad ottenere la fornitura dei nebulizzatori richiesti, in quanto per sopravvenute novità di mercato, ha ritenuto opportuno modificare le proprie scelte, in virtù del consistente risparmio” (cfr. comunicazione di avvio del procedimento prot. 61012 in data 8 giugno 2029, richiamata per relationem dalla determina n. 165/2021).\\n5. Con determine n. 169 del 2 luglio 2021 e n. 171 del 7 luglio 2021, Sanitaservice ha deciso l’acquisto di n. 20 apparecchi per la nebulizzazione di prodotti disinfettanti - SANIT EASY e di n. 50 nebulizzatori elettrostatici a batteria -DRY FOGVG38 mediante trattativa privata ad affidamento diretto ex art. 36 comma 2 lett. a), del d.lgs. 50/2016; con determina dirigenziale n. 175 del 19 luglio 2021 ha aggiudicato la predetta fornitura alla Ditta individuale Gipi Service di Pierri Luciano per il prezzo complessivo di euro 35.000,00 oltre IVA.\\n6. Flexicare, con motivi aggiunti, ha impugnato le determine nn. 165, 169 e 171 del 2021.\\nHa chiesto, in ultimo, la condanna al risarcimento per equivalente del danno subito in conseguenza dell’illegittima revoca della procedura di gara officiosa e, in subordine, il pagamento dell’indennizzo per la revoca, ai sensi dell’art. 21-quinquies della legge 241/1990.\\n6.1. Tecoservice non ha proposto gravame avverso detti provvedimenti.\\n7. Il TAR ha disposto verificazione (ord. n. 1743/2021) “al fine di accertare, anche alla luce delle norme tecniche UNI EN ISO specifiche per l’area medica in relazione ai nebulizzatori e ai prodotti disinfettanti (e, tra queste, delle UNI EN 14476, UNI EN 14347, UNI EN 13727, UNI EN 14348, UNI ENI 13624, NF T72-281 e UNI EN 17272), se i prodotti offerti dalla Ditta Gipi Service di Pierri Luciano (poi acquistati a trattativa privata) costituiscano un sistema di disinfezione conforme all’oggetto specifico (come definito dalle determinazioni dirigenziali n. 169 del 2 luglio 2021 e n. 171 del 7 luglio 2021 e dagli altri atti di gara) della procedura di affidamento diretto indetta dalla Sanitaservice ASL LE S.r.l. unipersonale e, in particolare, se siano prodotti utilizzabili negli ambienti sanitari ed ospedalieri ovvero siano prodotti a carattere industriale non destinati ad ambienti sanitari; tanto fornendo anche documentazione a comprova”.\\n7.1. Della verificazione è stato incaricato l’Ordine Nazionale dei Biologi, che ha designato le dott.sse Maria Corbelli e Maria Concetta Esposito.\\n8. Con la sentenza appellata (III, n. 191/2023), il TAR ha anzitutto esaminato e respinto l’impugnazione dell’esclusione dell’offerta Flexicare, rilevando in sostanza che:\\n- a fronte di un valore posto a base d’asta di circa euro 200.000,00, Flexicare aveva offerto un prezzo di soli euro 51.999,060 così operando un ribasso in sé assai elevato, pari a circa il 75%, che avrebbe richiesto, in ragione della sua entità, giustificazioni particolarmente pregnanti e convincenti da parte dell’operatore economico;\\n- la società invece si è limitata ad indicare solo l’incidenza percentuale sul prezzo offerto ed il valore di ciascuna voce di costo, impiegando a corredo formule di stile prive di reale attitudine esplicativa, e quindi le giustificazioni fornite non appaiono esaustive dei chiarimenti richiesti.\\n9. Il TAR ha poi esaminato il ricorso per motivi aggiunti, ed ha:\\n- respinto le censure avverso la revoca della gara, ritenendo che, a fronte di un’aggiudicazione provvisoria, la motivazione della stazione appaltante – “dopo l’analisi dell’offerta proposta dalla ditta TECOSERVICE (che aveva offerto un prezzo pari ad € 100.000,00), si è appurato che la stessa non presentava la conformità e le qualità delle caratteristiche tecniche dei prodotti per come previste nel Capitolato tecnico e in quello speciale d’appalto. E ciò in quanto l’apparecchio offerto dalla predetta ditta poteva funzionare esclusivamente con un unico prodotto igienizzante (peraltro dal prezzo di acquisto unitario particolarmente elevato)” – fosse idonea a supportare la decisione;\\n- respinto la richiesta di risarcimento, per conseguente difetto del presupposto della ingiustizia del danno sofferto, e quella di indennizzo ex art. 21-quinquies, da escludere in presenza di un’aggiudicazione provvisoria, come tale insuscettibile di originare un affidamento tutelabile;\\n- accolto le censure (terzo motivo) rivolte nei confronti dell’affidamento diretto, posto che i Verificatori hanno appurato, alla luce delle Norme tecniche UNI EN ISO specifiche per l’area medica indicate in quesito e previa interlocuzione con Vema S.r.l. (azienda produttrice di Sanit Easy) ed Eco Sistema S.r.l. (azienda distributrice dei Nebulizzatori Elettrostatici a batteria Dry Fog VG 38), che i nebulizzatori acquistati con trattativa privata dalla Ditta Gipi Service di Pierri Luciano non rispettano le caratteristiche indicate nel Capitolato Tecnico;\\n- respinto la relativa domanda di risarcimento, anche considerata l’esistenza di un interesse solo strumentale della ricorrente.\\n10. Sanitaservice ha appellato la sentenza, deducendo le censure appresso sintetizzate.\\n10.1. Sull’erroneità della sentenza impugnata nella parte in cui ha ritenuto sussistente l’interesse strumentale alla coltivazione del gravame proposto con i motivi aggiunti. Contraddittorietà e illogicità della motivazione.\\nSe il TAR avesse compiuto la necessaria valutazione sulla possibilità di realizzazione dell’interesse strumentale, avrebbe certamente concluso per l’inammissibilità anche della censura (la terza dei motivi aggiunti) ritenuta fondata nel merito.\\nE ciò in quanto, dopo l’annullamento della prima gara (quella a cui ha partecipato la società Flexicare) è emerso in modo inconfutabile che i prodotti richiesti avrebbero potuto essere acquistati mediante un affidamento diretto; e, dunque, Sanitaservice non aveva e non ha alcun obbligo di procedere con una nuova gara, essendoci la possibilità di procedere con affidamenti diretti compatibili col sistema normativo applicabile.\\nInoltre, la prospettazione della ricorrente si è fondata sulla inadeguatezza non delle apparecchiature fornite, ma del disinfettante da utilizzare con le stesse (che avrebbe dovuto essere conforme ad una serie di normative europee ed italiane), ma in realtà non è stato previsto l’acquisto di alcun prodotto disinfettante.\\nPertanto, è evidente che, sulla base dell’interesse concreto fatto valere per impugnare la determina di affidamento diretto disposto in favore della Ditta Gipi Service e sulla base delle risultanze della verificazione, non vi è stata per la società Flexicare alcuna lesione concreta ed attuale della sua posizione soggettiva.\\n10.2. Sull’erroneità della sentenza impugnata nella parte in cui ha ritenuto, nel merito, che i prodotti forniti da Gipi service non fossero idonei all’uso previsto.\\nL’appellante torna a sostenere di avere inteso affidare a trattativa diretta a Gipi Service la “fornitura di apparecchi per la nebulizzazione di prodotti disinfettati” e non certamente i relativi prodotti nebulizzanti.\\nNe fa discendere che il TAR, anzitutto, avrebbe errato nel confrontare i prodotti acquistati da Gipi Service con il “capitolato tecnico” posto a base della precedente gara di appalto (quella a cui ha partecipato Flexicare); tale capitolato è del tutto inconferente rispetto all’acquisto dei nebulizzatori di cui alla determinazione dirigenziale n. 175 del 19 luglio 2021, riguardando solo i diversi prodotti richiesti con l’originaria gara di appalto a procedura negoziata conclusa con la determina dirigenziale di aggiudicazione n. 158 dell’11 maggio 2021, successivamente revocata dalla stazione appaltante.\\nL’ulteriore errore commesso dal TAR sarebbe quello di ritenere che i macchinari forniti da Gipi Service dovessero essere “dispositivi medici”. In realtà, nelle determine impugnate non era previsto che tali apparecchiature dovessero avere tale caratteristica (nelle sole premesse del capitolato speciale di appalto si richiama il d.lgs. 46/1997 che disciplina (anche) i dispositivi medici, ma poi sia in tale capitolato che in quello tecnico, tale qualità non viene assolutamente richiesta). E dunque, Flexicare, per lagnarsi di ciò, avrebbe dovuto censurare specificatamente la lex specialis. Conseguentemente, il TAR ha errato nel fondare la sua decisione su una caratteristica tecnica che non poteva essere oggetto del giudizio, in quanto non espressamente richiesta dalla disciplina di gara.\\nIn ogni caso, sarebbero errate le conclusioni a cui sono pervenute le Verificatrici, poste a fondamento della decisione. Infatti, quest’ultime hanno rilevato che i prodotti acquistati da Sanitaservice (i nebulizzatori Sanit Easy e Dry Fog VG 38), oltre ad essere solo parzialmente conformi al capitolato tecnico, non hanno una certificazione come dispositivo medico. Tuttavia, in base al d.lgs. 46/1997, se un prodotto è utilizzato per disinfettare oggetti e/o ambienti, lo stesso non rientra nella classificazione; in tale contesto, sia il Nebulizzatore “Sanit Easy” che il dispositivo “Dry Fog VG 38” sono entrambi dotati di certificazione CE ma non necessitano di certificazione di dispositivo medico secondo quanto previsto dal d.lgs. 46/1997 e disciplinato dalla normativa CEE 93/42.\\n11. Flexicare si è costituita in giudizio ed ha controdedotto puntualmente, ribadendo la correttezza delle valutazioni operate dal TAR sulla base dell’esito della verificazione.\\n12. Sanitaservice ha depositato memoria di replica, ribadendo le proprie tesi.\\n13. Non può condividersi il primo motivo di appello, volto a far valere l’inammissibilità dell’impugnazione delle determine nn. 169 e 171 del 2021.\\n13.1. Infatti, una volta stabilito che la revoca degli atti di gara resisteva all’impugnazione di Flexicare, la mancanza in capo alla ricorrente di un interesse concreto a contestare i successivi affidamenti diretti, e con essa l’inammissibilità della relativa impugnazione, sarebbe potuta conseguire soltanto qualora gli sviluppi procedimentali finalizzati ad acquisire la fornitura per la stazione appaltante fossero stati obbligati, senza alternative, e rispetti ad essi Flexicare fosse necessariamente destinata a rimanere estranea.\\nMa così non era.\\nInfatti, Flexicare ha contestato il contenuto (caratteristiche dei prodotti acquisiti) di un affidamento diretto a terzi, che, in caso di annullamento, avrebbe potuto essere rinnovato e, questa volta, disposto nei suoi confronti – non essendo state prospettate al riguardo ragioni ostative.\\nInoltre, nella medesima ipotesi di accoglimento del gravame, Sanitaservice avrebbe anche potuto perseguire, in alternativa all’affidamento diretto, lo svolgimento di una nuova gara, a condizioni diverse che emendassero quelle della precedente, ritenute errate o comunque non convenienti per l’interesse pubblico, e può supporsi che - anche in questo caso, in mancanza di ragioni ostative – Flexicare ben avrebbe potuto parteciparvi.\\nTali evenienze, di cui non poteva certo escludersi la possibilità, danno consistenza all’interesse strumentale di Flexicare e ciò rende ammissibile l’impugnazione delle determine nn. 169 e 171/2021.\\n13.2. D’altro canto, le censure dedotte da Flexicare con il terzo motivo dei motivi aggiunti hanno riguardato la inadeguatezza dei prodotti acquistati, sotto diversi profili, lamentandosi – in relazione a vizi di “Illegittimità, illogicità e irragionevolezza della determina n. 175 del 19/07/2021, per violazione e falsa applicazione della normativa vigente in ambito medico ospedaliero. Violazione delle linee di indirizzo tecnico SIFO (Società Italiana Farmacisti Ospedalieri), del decreto ministeriale dell’ambiente 18 ottobre 2016, del rapporto INAIL 2020 sulle “misure di sicurezza per gli agenti infettivi del gruppo 3 nelle attività sanitarie” – che gli apparecchi disinfettanti forniti dalla Gipi Service fossero inidonei a garantire un’adeguata ed ottimale disinfezione degli ambienti ospedalieri, così come imposta dalla normativa vigente in materia.\\nNon risponde al vero, quindi, che la censura fosse limitata all’inadeguatezza del prodotto disinfettante, esterno (ancorché complementare) alla fornitura.\\n14. Con il secondo motivo, l’appellante contesta in sostanza il parametro sulla base del quale è stata effettuata la verificazione, i cui esiti sono stati accettati dal TAR e posti a fondamento dell’accoglimento delle doglianze di Flexicare.\\n14.1. E’ utile riportare gli esiti della verificazione, così come vengono sintetizzati nella sentenza appellata:\\n“Più segnatamente è emerso che il prodotto Sanit Easy: - è in possesso della marcatura CE ed è conforme alla Direttiva 2014/30/UE (Compatibilità elettromagnetica), ma non ha una certificazione come dispositivo medico, perché viene utilizzato per irrorare qualsiasi liquido in assenza di persone all'interno di locali per svariate applicazioni; - è trasportabile (a mezzo di carrello opzionale su richiesta del cliente), ma il suo peso complessivo è pari a 15 kg a vuoto, quindi, superiore a quello previsto dal Capitolato Tecnico; - è dotato di serbatoio da 5 lt, quindi conforme al Capitolato Tecnico, ma la concentrazione del prodotto disinfettante non viene impostata in percentuale da tastiera e da remoto, ma viene stabilita dall'operatore in base alla tipologia di prodotto che vuole utilizzare; - non rispetta le caratteristiche relative alla dimensione delle goccioline di disinfettante che compongono la nebbia secca, ma ne rispetta la portata; - non calcola automaticamente la quantità di prodotto da nebulizzare; - non prevede nessun misuratore per verificare i ppm, ma tali misuratori vengono venduti a parte come accessori extra; - non può trasmettere i dati con tecnologia wifi a piattaforma web gestionale che consenta l’archiviazione e il controllo del sistema, anche tramite applicazione, con schedatura delle informazioni, così come indicate dal Capitolato Tecnico; - può essere utilizzato per la diffusione della soluzione disinfettante a base di perossido di idrogeno (H2O2) e sali complessi di argento, ma non è conforme alla normativa UNI EN 17272, ovvero non è utilizzabile in ambienti ospedalieri, in quanto nebulizzatore che può irrorare qualsiasi liquido.\\nQuanto, invece, al Nebulizzatore Elettrostatico a batteria Dry Fog VG 38 si è accertato che lo stesso è in possesso della marcatura CE ed è conforme alla Direttiva 2014/30/UE (Compatibilità elettromagnetica), ma non ha una certificazione come dispositivo medico, perché viene utilizzato per irrorare qualsiasi liquido in assenza di persone all'interno di locali per svariate applicazioni e, che, in ogni caso, non presenta nessuna delle altre caratteristiche indicate dal Capitolato Tecnico.”.\\n14.2. Non è dubbio, quindi, che la valutazione di difformità effettuata dai verificatori sia avvenuta con riferimento ai requisiti essenziali ed alle caratteristiche direttamente previsti nel Capitolato tecnico, ovvero richiesti dalla disciplina normativa tecnica da esso richiamata o, comunque, ritenuta applicabile in ragione delle descrizioni dell’oggetto della prestazione contenute nel Capitolato.\\nMa ciò non vizia la valutazione.\\nE’ vero, infatti, che il Capitolato non è stato richiamato nelle determine dirigenziali nn. 169 e 171 del 2021. Tuttavia, l’affidamento diretto con esse disposto è seguito, praticamente senza soluzione di continuità, alla revoca degli atti della gara precedentemente espletata, richiama nelle premesse la determina n. 175/2021, e – in mancanza di qualsivoglia distinguo o mutamento di finalità espresso – deve intendersi rivolto a far fronte alle medesime esigenze.\\nIdentico è l’oggetto della fornitura, vale a dire gli apparecchi per la nebulizzazione di prodotti disinfettanti, da utilizzare in ambiti (se non esclusivamente, anche) sanitari ed ospedalieri; e non è dubbio che di una disciplina tecnica di riferimento, trattandosi, appunto, di prestazione incidente sull’interesse pubblico igienico-sanitario, vi fosse bisogno.\\nQualora davvero la stazione appaltante – nella prospettiva della possibilità di ottenere prodotti più nuovi ed a condizioni economicamente più vantaggiose, ragione sostanziale posta alla base della revoca degli atti della gara - avesse voluto cambiare addirittura l’oggetto della prestazione, ridimensionandolo o comunque eliminando requisiti non più ritenuti necessari, avrebbe avuto l’onere di chiarire espressamente la normativa ed i parametri di riferimento.\\nPertanto, considerati la continuità funzionale tra revoca della gara/graduatoria ed affidamento diretto, la mancanza di ogni differenziazione nella fase successiva del procedimento di acquisizione della fornitura rispetto alla prima, la stessa natura della prestazione, deve ritenersi che, pur in assenza di un richiamo espresso, legittimamente la verificazione sulla idoneità dei prodotti da acquisire si sia svolta sulla base delle prescrizioni del capitolato predisposto per la gara.\\n14.3. Ciò risulta sufficiente a respingere anche le censure volte a contestare la difformità dei prodotti acquisiti mediante affidamento diretto, non avendo l’appellante confutato tutti i molteplici profili di difformità rispetto al capitolato, riscontrati dai verificatori (e sopra riportati).\\n14.4. Può aggiungersi, per completezza, che l’appellante ha contestato specificamente – anche con riferimento alle osservazioni critiche svolte nei confronti della verificazione dall’ing. Paladini - la necessità che i prodotti fossero dotati della certificazione come dispositivi medici, non derivando tale conseguenza dai criteri previsti dal d.lgs. 46/1997 e dalla direttiva CEE 93/42 che disciplinano la materia.\\nFlexicare, di contro, ha sottolineato che la normativa EN 17272:2020 stabilisce la inscindibilità del sistema costituito dal macchinario e dalla soluzione disinfettante; ne fa discendere che sia il macchinario con marchio CE, classificato come dispositivo medico da utilizzare in area medica, sia il disinfettante inteso come dispositivo medico di classe IIa, devono essere certificati per l’utilizzo nel loro insieme; se ciò non avviene nella dichiarazione di conformità del macchinario e nei test di validazione dei prodotti, il sistema di disinfezione non è idoneo all’uso cui è destinato, ovvero la disinfezione delle aree mediche come quelle gestite da Sanitaservice.\\nTale principio, in effetti, sembra trovare un riscontro nella Circolare INAIL del 2022, invocata (e depositata in primo grado) da Flexicare: “In qualsiasi ambiente confinato nel quale, dalla valutazione del rischio si identifica un rischio di esposizione ad agenti patogeni, è necessario eseguire un’appropriata disinfezione delle superfici ambientali e delle superfici dei dispositivi medici, apparecchiature, strumenti, ecc. attraverso metodologie di aerosolizzazione che attualmente, dalla letteratura tecnico-scientifica di settore, sono considerate ottimali per debellare le infezioni, in accordo al d.lgs.81/2008 ed al Regolamento (UE) 2017/745. L’efficacia della menzionata metodologia di aerosolizzazione, eseguita da un sistema costituito da apparecchiatura che impiega una formulazione disinfettante, deve essere validata ed approvata da laboratori di organismi terzi, indipendenti, come ad esempio quelli dei centri universitari qualificati e di riferimento nel settore, in conformità alla recente normativa tecnica europea EN 17272:2020 elaborata per tale tipologia di disinfezione”.\\nIl Collegio ritiene tuttavia, per quanto esposto al punto 14.3., di potersi esimere dall’approfondire tale profilo, che richiederebbe l’adozione di ulteriori strumenti istruttori.\\n15. L’appello deve pertanto essere respinto.\\nLe spese del grado di giudizio, considerata la natura e complessità delle questioni affrontate, possono essere interamente compensate tra le parti.\\nP.Q.M.\\nIl Consiglio di Stato in sede giurisdizionale (Sezione Terza), definitivamente pronunciando sull’appello, come in epigrafe proposto, lo respinge.\\nSpese del grado compensate.\\nOrdina che la presente sentenza sia eseguita dall'autorità amministrativa.\\nCosì deciso in Roma nella camera di consiglio del giorno 13 luglio 2023 con l'intervento dei magistrati:\\n\\n\\nMichele Corradino, Presidente\\nPierfrancesco Ungari, Consigliere, Estensore\\nStefania Santoleri, Consigliere\\nGiovanni Pescatore, Consigliere\\nNicola D'Angelo, Consigliere\\n\\n\\n\\n\\n  L'ESTENSOREIL PRESIDENTEPierfrancesco UngariMichele Corradino \"\n",
        "                }\n",
        "            ]\n",
        "        }\n",
        "    ]\n",
        ")\n",
        "print(message.content)"
      ]
    }
  ]
}