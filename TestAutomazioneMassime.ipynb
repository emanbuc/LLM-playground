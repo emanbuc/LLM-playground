{
  "nbformat": 4,
  "nbformat_minor": 0,
  "metadata": {
    "colab": {
      "provenance": [],
      "mount_file_id": "1jAK_1dj2DwVJz648zF203iMA5iCWcd8R",
      "authorship_tag": "ABX9TyPxMfTHmSbnSXtdXpzkJzwp",
      "include_colab_link": true
    },
    "kernelspec": {
      "name": "python3",
      "display_name": "Python 3"
    },
    "language_info": {
      "name": "python"
    }
  },
  "cells": [
    {
      "cell_type": "markdown",
      "metadata": {
        "id": "view-in-github",
        "colab_type": "text"
      },
      "source": [
        "<a href=\"https://colab.research.google.com/github/emanbuc/LLM-playground/blob/master/TestAutomazioneMassime.ipynb\" target=\"_parent\"><img src=\"https://colab.research.google.com/assets/colab-badge.svg\" alt=\"Open In Colab\"/></a>"
      ]
    },
    {
      "cell_type": "markdown",
      "source": [],
      "metadata": {
        "id": "oe4cMkwrhB6n"
      }
    },
    {
      "cell_type": "markdown",
      "source": [
        "# Test Estrazione Massima"
      ],
      "metadata": {
        "id": "MpTfOf9qsk7E"
      }
    },
    {
      "cell_type": "code",
      "execution_count": 1,
      "metadata": {
        "colab": {
          "base_uri": "https://localhost:8080/"
        },
        "id": "rDLZ90kjg-E9",
        "outputId": "8c11184b-3d2d-4b37-d44a-43b2c92aa9f5"
      },
      "outputs": [
        {
          "output_type": "stream",
          "name": "stdout",
          "text": [
            "Collecting OpenAI\n",
            "  Downloading openai-1.30.5-py3-none-any.whl (320 kB)\n",
            "\u001b[2K     \u001b[90m━━━━━━━━━━━━━━━━━━━━━━━━━━━━━━━━━━━━━━━━\u001b[0m \u001b[32m320.7/320.7 kB\u001b[0m \u001b[31m4.2 MB/s\u001b[0m eta \u001b[36m0:00:00\u001b[0m\n",
            "\u001b[?25hRequirement already satisfied: anyio<5,>=3.5.0 in /usr/local/lib/python3.10/dist-packages (from OpenAI) (3.7.1)\n",
            "Requirement already satisfied: distro<2,>=1.7.0 in /usr/lib/python3/dist-packages (from OpenAI) (1.7.0)\n",
            "Collecting httpx<1,>=0.23.0 (from OpenAI)\n",
            "  Downloading httpx-0.27.0-py3-none-any.whl (75 kB)\n",
            "\u001b[2K     \u001b[90m━━━━━━━━━━━━━━━━━━━━━━━━━━━━━━━━━━━━━━━━\u001b[0m \u001b[32m75.6/75.6 kB\u001b[0m \u001b[31m7.4 MB/s\u001b[0m eta \u001b[36m0:00:00\u001b[0m\n",
            "\u001b[?25hRequirement already satisfied: pydantic<3,>=1.9.0 in /usr/local/lib/python3.10/dist-packages (from OpenAI) (2.7.1)\n",
            "Requirement already satisfied: sniffio in /usr/local/lib/python3.10/dist-packages (from OpenAI) (1.3.1)\n",
            "Requirement already satisfied: tqdm>4 in /usr/local/lib/python3.10/dist-packages (from OpenAI) (4.66.4)\n",
            "Requirement already satisfied: typing-extensions<5,>=4.7 in /usr/local/lib/python3.10/dist-packages (from OpenAI) (4.11.0)\n",
            "Requirement already satisfied: idna>=2.8 in /usr/local/lib/python3.10/dist-packages (from anyio<5,>=3.5.0->OpenAI) (3.7)\n",
            "Requirement already satisfied: exceptiongroup in /usr/local/lib/python3.10/dist-packages (from anyio<5,>=3.5.0->OpenAI) (1.2.1)\n",
            "Requirement already satisfied: certifi in /usr/local/lib/python3.10/dist-packages (from httpx<1,>=0.23.0->OpenAI) (2024.2.2)\n",
            "Collecting httpcore==1.* (from httpx<1,>=0.23.0->OpenAI)\n",
            "  Downloading httpcore-1.0.5-py3-none-any.whl (77 kB)\n",
            "\u001b[2K     \u001b[90m━━━━━━━━━━━━━━━━━━━━━━━━━━━━━━━━━━━━━━━━\u001b[0m \u001b[32m77.9/77.9 kB\u001b[0m \u001b[31m6.9 MB/s\u001b[0m eta \u001b[36m0:00:00\u001b[0m\n",
            "\u001b[?25hCollecting h11<0.15,>=0.13 (from httpcore==1.*->httpx<1,>=0.23.0->OpenAI)\n",
            "  Downloading h11-0.14.0-py3-none-any.whl (58 kB)\n",
            "\u001b[2K     \u001b[90m━━━━━━━━━━━━━━━━━━━━━━━━━━━━━━━━━━━━━━━━\u001b[0m \u001b[32m58.3/58.3 kB\u001b[0m \u001b[31m6.1 MB/s\u001b[0m eta \u001b[36m0:00:00\u001b[0m\n",
            "\u001b[?25hRequirement already satisfied: annotated-types>=0.4.0 in /usr/local/lib/python3.10/dist-packages (from pydantic<3,>=1.9.0->OpenAI) (0.7.0)\n",
            "Requirement already satisfied: pydantic-core==2.18.2 in /usr/local/lib/python3.10/dist-packages (from pydantic<3,>=1.9.0->OpenAI) (2.18.2)\n",
            "Installing collected packages: h11, httpcore, httpx, OpenAI\n",
            "Successfully installed OpenAI-1.30.5 h11-0.14.0 httpcore-1.0.5 httpx-0.27.0\n"
          ]
        }
      ],
      "source": [
        "!pip install OpenAI bs4"
      ]
    },
    {
      "cell_type": "code",
      "source": [
        "!pip freeze > requirements.txt"
      ],
      "metadata": {
        "id": "oM7IQQcy8SvE"
      },
      "execution_count": 27,
      "outputs": []
    },
    {
      "cell_type": "markdown",
      "source": [
        "Per caricare API KEY da variabili di ambiente\n",
        "\n",
        "\n",
        "\n",
        "```\n",
        "from dotenv import load_dotenv, find_dotenv\n",
        "_ = load_dotenv(find_dotenv()) # read local .env file\n",
        "\n",
        "openai.api_key  = os.environ['OPENAI_API_KEY']\n",
        "```\n",
        "\n"
      ],
      "metadata": {
        "id": "DkTBku_imAaS"
      }
    },
    {
      "cell_type": "code",
      "source": [
        "#carica API KEY da secret di Google Colab\n",
        "from google.colab import userdata\n",
        "openai_key= userdata.get('openai-key-nomos-ai')"
      ],
      "metadata": {
        "id": "CAkkcOBRlQRi"
      },
      "execution_count": 3,
      "outputs": []
    },
    {
      "cell_type": "code",
      "source": [
        "from openai import OpenAI\n",
        "client = OpenAI(api_key=openai_key)"
      ],
      "metadata": {
        "id": "YrkAG7X-s7AK"
      },
      "execution_count": 4,
      "outputs": []
    },
    {
      "cell_type": "code",
      "source": [
        "from google.colab import drive\n",
        "drive.mount('/gdrive')"
      ],
      "metadata": {
        "colab": {
          "base_uri": "https://localhost:8080/"
        },
        "id": "N2F87R-46P2h",
        "outputId": "18231b1d-193e-4a42-b87c-dcb5a1fae73a"
      },
      "execution_count": 5,
      "outputs": [
        {
          "output_type": "stream",
          "name": "stdout",
          "text": [
            "Mounted at /gdrive\n"
          ]
        }
      ]
    },
    {
      "cell_type": "code",
      "source": [
        "def get_completion_and_token_count(messages,\n",
        "                                   model=\"gpt-3.5-turbo\", #model=\"gpt-4-turbo-preview\", #model=\"gpt-3.5-turbo\",\n",
        "                                   temperature=0,\n",
        "                                   max_tokens=500):\n",
        "\n",
        "    response = client.chat.completions.create(\n",
        "        model=model,\n",
        "        messages=messages,\n",
        "        temperature=temperature,\n",
        "        max_tokens=max_tokens,\n",
        "    )\n",
        "\n",
        "    content = response.choices[0].message.content\n",
        "\n",
        "    token_dict = {\n",
        "'prompt_tokens':response.usage.prompt_tokens,\n",
        "'completion_tokens':response.usage.completion_tokens,\n",
        "'total_tokens':response.usage.total_tokens,\n",
        "    }\n",
        "\n",
        "    return content, token_dict"
      ],
      "metadata": {
        "id": "FrODL3_HqD6W"
      },
      "execution_count": 6,
      "outputs": []
    },
    {
      "cell_type": "code",
      "source": [
        "config= {\n",
        "    \"massime_path\": \"/gdrive/MyDrive/NomosAI/Massime/test06\",#\"/gdrive/MyDrive/NomosAI/Massime\",\n",
        "    \"sentenze_path\": \"/gdrive/MyDrive/NomosAI/Docs-Condivisi-NomosAI/Test Gold Standard/\", #\"/gdrive/MyDrive/NomosAI/Sentenze\",\n",
        "    \"prompt_path\":\"/gdrive/MyDrive/NomosAI/Prompt\",\n",
        "    \"models\":[\"gpt-4o-2024-05-13\",\"gpt-4-turbo-2024-04-09\",\"gpt-3.5-turbo\"],\n",
        "    \"prompts\":[\"system_message_C.txt\"],#[\"system_message_A.txt\",\"system_message_B.txt\",\"system_message_C.txt\"],\n",
        "    \"debug\": False\n",
        "}"
      ],
      "metadata": {
        "id": "BIlTfJAV8sMs"
      },
      "execution_count": 35,
      "outputs": []
    },
    {
      "cell_type": "code",
      "source": [
        "config[\"massime_path\"]"
      ],
      "metadata": {
        "colab": {
          "base_uri": "https://localhost:8080/",
          "height": 36
        },
        "id": "qBiVd8Rc-q9M",
        "outputId": "6ca9f22f-9f39-4535-dd5e-d8cc64f23b7c"
      },
      "execution_count": 17,
      "outputs": [
        {
          "output_type": "execute_result",
          "data": {
            "text/plain": [
              "'/gdrive/MyDrive/NomosAI/Massime/test02'"
            ],
            "application/vnd.google.colaboratory.intrinsic+json": {
              "type": "string"
            }
          },
          "metadata": {},
          "execution_count": 17
        }
      ]
    },
    {
      "cell_type": "code",
      "source": [
        "def create_text_file_dict_from_folder(folder_path):\n",
        "    import os\n",
        "    import glob\n",
        "    # Initialize an empty dictionary\n",
        "    text_files_dict = {}\n",
        "\n",
        "    # Create the pattern for .txt files\n",
        "    pattern = os.path.join(folder_path, '*.txt')\n",
        "\n",
        "    # Find all .txt files matching the pattern\n",
        "    for file_path in glob.glob(pattern):\n",
        "        # Extract the file name from the file path\n",
        "        file_name = os.path.basename(file_path)\n",
        "\n",
        "        # Read the content of the file\n",
        "        with open(file_path, 'r', encoding='utf-8') as file:\n",
        "            content = file.read()\n",
        "\n",
        "        # Add the file name and content to the dictionary\n",
        "        text_files_dict[file_name] = content\n",
        "\n",
        "    return text_files_dict"
      ],
      "metadata": {
        "id": "TphVlFOE_qd1"
      },
      "execution_count": 18,
      "outputs": []
    },
    {
      "cell_type": "code",
      "source": [
        "prompts_files_dict = create_text_file_dict_from_folder(config[\"prompt_path\"])\n",
        "for file_name, content in prompts_files_dict.items():\n",
        "    print(f'File: {file_name}\\n')"
      ],
      "metadata": {
        "colab": {
          "base_uri": "https://localhost:8080/"
        },
        "id": "FXPfN_Wq_zmE",
        "outputId": "8d4b8a4e-69a7-4692-d053-b4255a762238"
      },
      "execution_count": 19,
      "outputs": [
        {
          "output_type": "stream",
          "name": "stdout",
          "text": [
            "File: system_message_A.txt\n",
            "\n",
            "File: system_message_B.txt\n",
            "\n",
            "File: system_message_C.txt\n",
            "\n"
          ]
        }
      ]
    },
    {
      "cell_type": "code",
      "source": [
        "def save_output_as_text_file(filename,text_content):\n",
        "  percorso_file = os.path.join(config[\"massime_path\"], filename)\n",
        "  with open(percorso_file+'.txt', 'w') as f:\n",
        "    f.write(text_content)"
      ],
      "metadata": {
        "id": "IwPuCwaZuCzF"
      },
      "execution_count": 20,
      "outputs": []
    },
    {
      "cell_type": "code",
      "source": [
        "def genera_massima(prompt_file,sentenza,model,output_file_name):\n",
        "\n",
        "    prompt = prompts_files_dict[prompt_file]\n",
        "    messages = [\n",
        "      {'role':'system',\n",
        "      'content':prompt},\n",
        "      {'role':'user',\n",
        "      'content':sentenza},\n",
        "      ]\n",
        "\n",
        "    if(config[\"debug\"]):\n",
        "      print(\"====== promt: ========== \\n\")\n",
        "      print(prompt)\n",
        "\n",
        "      print(\" ======== sentenza =======\\n\")\n",
        "      print(sentenza)\n",
        "\n",
        "\n",
        "    response, token_dict = get_completion_and_token_count(messages,model=model,max_tokens= 1000)\n",
        "\n",
        "    if(config[\"debug\"]):\n",
        "      print(\" ======= response =========\\n\")\n",
        "\n",
        "      print(response)\n",
        "\n",
        "      print(\"======== tokens_dict ========= \\n\")\n",
        "\n",
        "      print(token_dict)\n",
        "    save_output_as_text_file(output_file_name+\"_\"+model+\"_\"+prompt_file,response)"
      ],
      "metadata": {
        "id": "fP5UlzsVDOkl"
      },
      "execution_count": 21,
      "outputs": []
    },
    {
      "cell_type": "code",
      "source": [
        "from bs4 import BeautifulSoup\n",
        "\n",
        "import os\n",
        "for radice, cartelle, file in os.walk(config[\"sentenze_path\"]):\n",
        "    for f in file:\n",
        "      if f.endswith('.html'):\n",
        "        percorso_file = os.path.join(radice, f)\n",
        "        with open(percorso_file, 'r', encoding='utf-8') as fh:\n",
        "          sentenza = fh.read()\n",
        "\n",
        "          print(\"Elaboro file: \"+ percorso_file + \"\\n\")\n",
        "\n",
        "          soup = BeautifulSoup(sentenza, 'html.parser')\n",
        "\n",
        "          # Estrai il testo da tutti i tag <p>\n",
        "          testoSentenza = ''\n",
        "          for paragrafo in soup.find_all('p'):\n",
        "              testoSentenza += paragrafo.text + '\\n'\n",
        "\n",
        "          save_output_as_text_file(f+\"_TESTO_SENTENZA\",testoSentenza)\n",
        "\n",
        "          for prompt_file in config[\"prompts\"]:\n",
        "            for model in config[\"models\"]:\n",
        "              try:\n",
        "                genera_massima(prompt_file,testoSentenza,model,f)\n",
        "              except:\n",
        "                print(\"ERRORE sentenza: \"+ percorso_file + \" MODEL: \"+model+\"+ PROMPT: \"+ prompt_file +\"\\n\")\n"
      ],
      "metadata": {
        "colab": {
          "base_uri": "https://localhost:8080/"
        },
        "id": "G7rWCK8I2pvA",
        "outputId": "a655fa60-9237-4dbe-eefc-59f9ca252559"
      },
      "execution_count": 37,
      "outputs": [
        {
          "output_type": "stream",
          "name": "stdout",
          "text": [
            "Elaboro file: /gdrive/MyDrive/NomosAI/Docs-Condivisi-NomosAI/Test Gold Standard/84/84_202400003_11.html\n",
            "\n",
            "Elaboro file: /gdrive/MyDrive/NomosAI/Docs-Condivisi-NomosAI/Test Gold Standard/87/87_202400797_01.html\n",
            "\n",
            "Elaboro file: /gdrive/MyDrive/NomosAI/Docs-Condivisi-NomosAI/Test Gold Standard/85/85_202400419_01.html\n",
            "\n",
            "ERRORE sentenza: /gdrive/MyDrive/NomosAI/Docs-Condivisi-NomosAI/Test Gold Standard/85/85_202400419_01.html MODEL: gpt-3.5-turbo+ PROMPT: system_message_C.txt\n",
            "\n",
            "Elaboro file: /gdrive/MyDrive/NomosAI/Docs-Condivisi-NomosAI/Test Gold Standard/82/82_202400894_15.html\n",
            "\n",
            "Elaboro file: /gdrive/MyDrive/NomosAI/Docs-Condivisi-NomosAI/Test Gold Standard/89/89_202402196_11.html\n",
            "\n",
            "Elaboro file: /gdrive/MyDrive/NomosAI/Docs-Condivisi-NomosAI/Test Gold Standard/9/09_202404155_11.html\n",
            "\n",
            "Elaboro file: /gdrive/MyDrive/NomosAI/Docs-Condivisi-NomosAI/Test Gold Standard/83/83_202400954_01.html\n",
            "\n",
            "ERRORE sentenza: /gdrive/MyDrive/NomosAI/Docs-Condivisi-NomosAI/Test Gold Standard/83/83_202400954_01.html MODEL: gpt-3.5-turbo+ PROMPT: system_message_C.txt\n",
            "\n",
            "Elaboro file: /gdrive/MyDrive/NomosAI/Docs-Condivisi-NomosAI/Test Gold Standard/86/86_202402251_23.html\n",
            "\n",
            "Elaboro file: /gdrive/MyDrive/NomosAI/Docs-Condivisi-NomosAI/Test Gold Standard/90/90_202402227_11.html\n",
            "\n",
            "Elaboro file: /gdrive/MyDrive/NomosAI/Docs-Condivisi-NomosAI/Test Gold Standard/88/88_202402255_11.html\n",
            "\n",
            "ERRORE sentenza: /gdrive/MyDrive/NomosAI/Docs-Condivisi-NomosAI/Test Gold Standard/88/88_202402255_11.html MODEL: gpt-3.5-turbo+ PROMPT: system_message_C.txt\n",
            "\n",
            "Elaboro file: /gdrive/MyDrive/NomosAI/Docs-Condivisi-NomosAI/Test Gold Standard/79/79_202402395_11.html\n",
            "\n",
            "Elaboro file: /gdrive/MyDrive/NomosAI/Docs-Condivisi-NomosAI/Test Gold Standard/76/76_202400566_20.html\n",
            "\n",
            "Elaboro file: /gdrive/MyDrive/NomosAI/Docs-Condivisi-NomosAI/Test Gold Standard/74/74_202318854_01.html\n",
            "\n",
            "Elaboro file: /gdrive/MyDrive/NomosAI/Docs-Condivisi-NomosAI/Test Gold Standard/75/75_202404349_11.html\n",
            "\n",
            "Elaboro file: /gdrive/MyDrive/NomosAI/Docs-Condivisi-NomosAI/Test Gold Standard/8/08_202401696_01.html\n",
            "\n",
            "Elaboro file: /gdrive/MyDrive/NomosAI/Docs-Condivisi-NomosAI/Test Gold Standard/77/77_202402454_11.html\n",
            "\n",
            "Elaboro file: /gdrive/MyDrive/NomosAI/Docs-Condivisi-NomosAI/Test Gold Standard/78/78_202402413_11.html\n",
            "\n",
            "Elaboro file: /gdrive/MyDrive/NomosAI/Docs-Condivisi-NomosAI/Test Gold Standard/80/80_202400953_01.html\n",
            "\n",
            "ERRORE sentenza: /gdrive/MyDrive/NomosAI/Docs-Condivisi-NomosAI/Test Gold Standard/80/80_202400953_01.html MODEL: gpt-3.5-turbo+ PROMPT: system_message_C.txt\n",
            "\n",
            "Elaboro file: /gdrive/MyDrive/NomosAI/Docs-Condivisi-NomosAI/Test Gold Standard/73/73_202402556_18.html\n",
            "\n",
            "Elaboro file: /gdrive/MyDrive/NomosAI/Docs-Condivisi-NomosAI/Test Gold Standard/81/81_202400458_01.html\n",
            "\n",
            "ERRORE sentenza: /gdrive/MyDrive/NomosAI/Docs-Condivisi-NomosAI/Test Gold Standard/81/81_202400458_01.html MODEL: gpt-3.5-turbo+ PROMPT: system_message_C.txt\n",
            "\n",
            "Elaboro file: /gdrive/MyDrive/NomosAI/Docs-Condivisi-NomosAI/Test Gold Standard/64/64_202400004_11.html\n",
            "\n",
            "ERRORE sentenza: /gdrive/MyDrive/NomosAI/Docs-Condivisi-NomosAI/Test Gold Standard/64/64_202400004_11.html MODEL: gpt-3.5-turbo+ PROMPT: system_message_C.txt\n",
            "\n",
            "Elaboro file: /gdrive/MyDrive/NomosAI/Docs-Condivisi-NomosAI/Test Gold Standard/69/69_202402567_11.html\n",
            "\n",
            "Elaboro file: /gdrive/MyDrive/NomosAI/Docs-Condivisi-NomosAI/Test Gold Standard/7/07_202400144_01.html\n",
            "\n",
            "ERRORE sentenza: /gdrive/MyDrive/NomosAI/Docs-Condivisi-NomosAI/Test Gold Standard/7/07_202400144_01.html MODEL: gpt-4o-2024-05-13+ PROMPT: system_message_C.txt\n",
            "\n",
            "ERRORE sentenza: /gdrive/MyDrive/NomosAI/Docs-Condivisi-NomosAI/Test Gold Standard/7/07_202400144_01.html MODEL: gpt-4-turbo-2024-04-09+ PROMPT: system_message_C.txt\n",
            "\n",
            "ERRORE sentenza: /gdrive/MyDrive/NomosAI/Docs-Condivisi-NomosAI/Test Gold Standard/7/07_202400144_01.html MODEL: gpt-3.5-turbo+ PROMPT: system_message_C.txt\n",
            "\n",
            "Elaboro file: /gdrive/MyDrive/NomosAI/Docs-Condivisi-NomosAI/Test Gold Standard/71/71_202402606_11.html\n",
            "\n",
            "Elaboro file: /gdrive/MyDrive/NomosAI/Docs-Condivisi-NomosAI/Test Gold Standard/72/72_202402515_11.html\n",
            "\n",
            "ERRORE sentenza: /gdrive/MyDrive/NomosAI/Docs-Condivisi-NomosAI/Test Gold Standard/72/72_202402515_11.html MODEL: gpt-3.5-turbo+ PROMPT: system_message_C.txt\n",
            "\n",
            "Elaboro file: /gdrive/MyDrive/NomosAI/Docs-Condivisi-NomosAI/Test Gold Standard/66/66_202403203_11.html\n",
            "\n",
            "ERRORE sentenza: /gdrive/MyDrive/NomosAI/Docs-Condivisi-NomosAI/Test Gold Standard/66/66_202403203_11.html MODEL: gpt-3.5-turbo+ PROMPT: system_message_C.txt\n",
            "\n",
            "Elaboro file: /gdrive/MyDrive/NomosAI/Docs-Condivisi-NomosAI/Test Gold Standard/65/65_202403266_11.html\n",
            "\n",
            "Elaboro file: /gdrive/MyDrive/NomosAI/Docs-Condivisi-NomosAI/Test Gold Standard/67/67_202402694_11.html\n",
            "\n",
            "Elaboro file: /gdrive/MyDrive/NomosAI/Docs-Condivisi-NomosAI/Test Gold Standard/68/68_202402679_11.html\n",
            "\n",
            "Elaboro file: /gdrive/MyDrive/NomosAI/Docs-Condivisi-NomosAI/Test Gold Standard/70/70_202300414_16.html\n",
            "\n",
            "Elaboro file: /gdrive/MyDrive/NomosAI/Docs-Condivisi-NomosAI/Test Gold Standard/56/56_202310965_11.html\n",
            "\n",
            "Elaboro file: /gdrive/MyDrive/NomosAI/Docs-Condivisi-NomosAI/Test Gold Standard/57/57_202403007_11.html\n",
            "\n",
            "ERRORE sentenza: /gdrive/MyDrive/NomosAI/Docs-Condivisi-NomosAI/Test Gold Standard/57/57_202403007_11.html MODEL: gpt-3.5-turbo+ PROMPT: system_message_C.txt\n",
            "\n",
            "Elaboro file: /gdrive/MyDrive/NomosAI/Docs-Condivisi-NomosAI/Test Gold Standard/61/61_202400254_01.html\n",
            "\n",
            "Elaboro file: /gdrive/MyDrive/NomosAI/Docs-Condivisi-NomosAI/Test Gold Standard/55/55_202403105_11.html\n",
            "\n",
            "Elaboro file: /gdrive/MyDrive/NomosAI/Docs-Condivisi-NomosAI/Test Gold Standard/62/62_202400005_18.html\n",
            "\n",
            "Elaboro file: /gdrive/MyDrive/NomosAI/Docs-Condivisi-NomosAI/Test Gold Standard/6/06_202404321_11.html\n",
            "\n",
            "ERRORE sentenza: /gdrive/MyDrive/NomosAI/Docs-Condivisi-NomosAI/Test Gold Standard/6/06_202404321_11.html MODEL: gpt-3.5-turbo+ PROMPT: system_message_C.txt\n",
            "\n",
            "Elaboro file: /gdrive/MyDrive/NomosAI/Docs-Condivisi-NomosAI/Test Gold Standard/63/63_202402407_01.html\n",
            "\n",
            "Elaboro file: /gdrive/MyDrive/NomosAI/Docs-Condivisi-NomosAI/Test Gold Standard/58/58_202402964_11.html\n",
            "\n",
            "ERRORE sentenza: /gdrive/MyDrive/NomosAI/Docs-Condivisi-NomosAI/Test Gold Standard/58/58_202402964_11.html MODEL: gpt-3.5-turbo+ PROMPT: system_message_C.txt\n",
            "\n",
            "Elaboro file: /gdrive/MyDrive/NomosAI/Docs-Condivisi-NomosAI/Test Gold Standard/59/59_202400233_11.html\n",
            "\n",
            "Elaboro file: /gdrive/MyDrive/NomosAI/Docs-Condivisi-NomosAI/Test Gold Standard/60/60_202310976_11.html\n",
            "\n",
            "Elaboro file: /gdrive/MyDrive/NomosAI/Docs-Condivisi-NomosAI/Test Gold Standard/53/53_202403164_11.html\n",
            "\n",
            "ERRORE sentenza: /gdrive/MyDrive/NomosAI/Docs-Condivisi-NomosAI/Test Gold Standard/53/53_202403164_11.html MODEL: gpt-3.5-turbo+ PROMPT: system_message_C.txt\n",
            "\n",
            "Elaboro file: /gdrive/MyDrive/NomosAI/Docs-Condivisi-NomosAI/Test Gold Standard/5/05_202400364_18.html\n",
            "\n",
            "ERRORE sentenza: /gdrive/MyDrive/NomosAI/Docs-Condivisi-NomosAI/Test Gold Standard/5/05_202400364_18.html MODEL: gpt-3.5-turbo+ PROMPT: system_message_C.txt\n",
            "\n",
            "Elaboro file: /gdrive/MyDrive/NomosAI/Docs-Condivisi-NomosAI/Test Gold Standard/47/47_202402798_11.html\n",
            "\n",
            "Elaboro file: /gdrive/MyDrive/NomosAI/Docs-Condivisi-NomosAI/Test Gold Standard/54/54_202403095_11.html\n",
            "\n",
            "Elaboro file: /gdrive/MyDrive/NomosAI/Docs-Condivisi-NomosAI/Test Gold Standard/52/52_202403126_18.html\n",
            "\n",
            "Elaboro file: /gdrive/MyDrive/NomosAI/Docs-Condivisi-NomosAI/Test Gold Standard/50/50_202403194_11.html\n",
            "\n",
            "Elaboro file: /gdrive/MyDrive/NomosAI/Docs-Condivisi-NomosAI/Test Gold Standard/51/51_202400625_08.html\n",
            "\n",
            "Elaboro file: /gdrive/MyDrive/NomosAI/Docs-Condivisi-NomosAI/Test Gold Standard/48/48_202402791_11.html\n",
            "\n",
            "ERRORE sentenza: /gdrive/MyDrive/NomosAI/Docs-Condivisi-NomosAI/Test Gold Standard/48/48_202402791_11.html MODEL: gpt-4o-2024-05-13+ PROMPT: system_message_C.txt\n",
            "\n",
            "ERRORE sentenza: /gdrive/MyDrive/NomosAI/Docs-Condivisi-NomosAI/Test Gold Standard/48/48_202402791_11.html MODEL: gpt-4-turbo-2024-04-09+ PROMPT: system_message_C.txt\n",
            "\n",
            "ERRORE sentenza: /gdrive/MyDrive/NomosAI/Docs-Condivisi-NomosAI/Test Gold Standard/48/48_202402791_11.html MODEL: gpt-3.5-turbo+ PROMPT: system_message_C.txt\n",
            "\n",
            "Elaboro file: /gdrive/MyDrive/NomosAI/Docs-Condivisi-NomosAI/Test Gold Standard/46/46_202400243_01.html\n",
            "\n",
            "Elaboro file: /gdrive/MyDrive/NomosAI/Docs-Condivisi-NomosAI/Test Gold Standard/49/49_202310974_11.html\n",
            "\n",
            "Elaboro file: /gdrive/MyDrive/NomosAI/Docs-Condivisi-NomosAI/Test Gold Standard/42/42_202402882_11.html\n",
            "\n",
            "Elaboro file: /gdrive/MyDrive/NomosAI/Docs-Condivisi-NomosAI/Test Gold Standard/43/43_202402866_11.html\n",
            "\n",
            "Elaboro file: /gdrive/MyDrive/NomosAI/Docs-Condivisi-NomosAI/Test Gold Standard/40/40_202300212_08.html\n",
            "\n",
            "ERRORE sentenza: /gdrive/MyDrive/NomosAI/Docs-Condivisi-NomosAI/Test Gold Standard/40/40_202300212_08.html MODEL: gpt-3.5-turbo+ PROMPT: system_message_C.txt\n",
            "\n",
            "Elaboro file: /gdrive/MyDrive/NomosAI/Docs-Condivisi-NomosAI/Test Gold Standard/38/38_202400258_01.html\n",
            "\n",
            "Elaboro file: /gdrive/MyDrive/NomosAI/Docs-Condivisi-NomosAI/Test Gold Standard/44/44_202402815_11.html\n",
            "\n",
            "Elaboro file: /gdrive/MyDrive/NomosAI/Docs-Condivisi-NomosAI/Test Gold Standard/41/41_202402905_11.html\n",
            "\n",
            "ERRORE sentenza: /gdrive/MyDrive/NomosAI/Docs-Condivisi-NomosAI/Test Gold Standard/41/41_202402905_11.html MODEL: gpt-4o-2024-05-13+ PROMPT: system_message_C.txt\n",
            "\n",
            "ERRORE sentenza: /gdrive/MyDrive/NomosAI/Docs-Condivisi-NomosAI/Test Gold Standard/41/41_202402905_11.html MODEL: gpt-4-turbo-2024-04-09+ PROMPT: system_message_C.txt\n",
            "\n",
            "ERRORE sentenza: /gdrive/MyDrive/NomosAI/Docs-Condivisi-NomosAI/Test Gold Standard/41/41_202402905_11.html MODEL: gpt-3.5-turbo+ PROMPT: system_message_C.txt\n",
            "\n",
            "Elaboro file: /gdrive/MyDrive/NomosAI/Docs-Condivisi-NomosAI/Test Gold Standard/45/45_202403305_11.html\n",
            "\n",
            "Elaboro file: /gdrive/MyDrive/NomosAI/Docs-Condivisi-NomosAI/Test Gold Standard/39/39_202402475_01.html\n",
            "\n",
            "Elaboro file: /gdrive/MyDrive/NomosAI/Docs-Condivisi-NomosAI/Test Gold Standard/37/37_202400284_08.html\n",
            "\n",
            "Elaboro file: /gdrive/MyDrive/NomosAI/Docs-Condivisi-NomosAI/Test Gold Standard/4/04_202318790_01.html\n",
            "\n",
            "ERRORE sentenza: /gdrive/MyDrive/NomosAI/Docs-Condivisi-NomosAI/Test Gold Standard/4/04_202318790_01.html MODEL: gpt-3.5-turbo+ PROMPT: system_message_C.txt\n",
            "\n",
            "Elaboro file: /gdrive/MyDrive/NomosAI/Docs-Condivisi-NomosAI/Test Gold Standard/28/28_202403833_11.html\n",
            "\n",
            "Elaboro file: /gdrive/MyDrive/NomosAI/Docs-Condivisi-NomosAI/Test Gold Standard/30/30_202400007_11.html\n",
            "\n",
            "Elaboro file: /gdrive/MyDrive/NomosAI/Docs-Condivisi-NomosAI/Test Gold Standard/34/34_202400006_11.html\n",
            "\n",
            "Elaboro file: /gdrive/MyDrive/NomosAI/Docs-Condivisi-NomosAI/Test Gold Standard/29/29_202403780_11.html\n",
            "\n",
            "Elaboro file: /gdrive/MyDrive/NomosAI/Docs-Condivisi-NomosAI/Test Gold Standard/32/32_202400259_01.html\n",
            "\n",
            "Elaboro file: /gdrive/MyDrive/NomosAI/Docs-Condivisi-NomosAI/Test Gold Standard/36/36_202308100_11.html\n",
            "\n",
            "Elaboro file: /gdrive/MyDrive/NomosAI/Docs-Condivisi-NomosAI/Test Gold Standard/33/33_202403645_11.html\n",
            "\n",
            "ERRORE sentenza: /gdrive/MyDrive/NomosAI/Docs-Condivisi-NomosAI/Test Gold Standard/33/33_202403645_11.html MODEL: gpt-3.5-turbo+ PROMPT: system_message_C.txt\n",
            "\n",
            "Elaboro file: /gdrive/MyDrive/NomosAI/Docs-Condivisi-NomosAI/Test Gold Standard/3/03_202404349_11.html\n",
            "\n",
            "Elaboro file: /gdrive/MyDrive/NomosAI/Docs-Condivisi-NomosAI/Test Gold Standard/31/31_202403641_11.html\n",
            "\n",
            "ERRORE sentenza: /gdrive/MyDrive/NomosAI/Docs-Condivisi-NomosAI/Test Gold Standard/31/31_202403641_11.html MODEL: gpt-3.5-turbo+ PROMPT: system_message_C.txt\n",
            "\n",
            "Elaboro file: /gdrive/MyDrive/NomosAI/Docs-Condivisi-NomosAI/Test Gold Standard/35/35_202403522_11.html\n",
            "\n",
            "Elaboro file: /gdrive/MyDrive/NomosAI/Docs-Condivisi-NomosAI/Test Gold Standard/24/24_202309849_11.html\n",
            "\n",
            "Elaboro file: /gdrive/MyDrive/NomosAI/Docs-Condivisi-NomosAI/Test Gold Standard/22/22_202402255_11.html\n",
            "\n",
            "Elaboro file: /gdrive/MyDrive/NomosAI/Docs-Condivisi-NomosAI/Test Gold Standard/2/02_202409681_08.html\n",
            "\n",
            "Elaboro file: /gdrive/MyDrive/NomosAI/Docs-Condivisi-NomosAI/Test Gold Standard/20/20_202403945_11.html\n",
            "\n",
            "Elaboro file: /gdrive/MyDrive/NomosAI/Docs-Condivisi-NomosAI/Test Gold Standard/21/21_202309842_11.html\n",
            "\n",
            "Elaboro file: /gdrive/MyDrive/NomosAI/Docs-Condivisi-NomosAI/Test Gold Standard/19/19_202400365_01.html\n",
            "\n",
            "Elaboro file: /gdrive/MyDrive/NomosAI/Docs-Condivisi-NomosAI/Test Gold Standard/25/25_202402825_20.html\n",
            "\n",
            "ERRORE sentenza: /gdrive/MyDrive/NomosAI/Docs-Condivisi-NomosAI/Test Gold Standard/25/25_202402825_20.html MODEL: gpt-3.5-turbo+ PROMPT: system_message_C.txt\n",
            "\n",
            "Elaboro file: /gdrive/MyDrive/NomosAI/Docs-Condivisi-NomosAI/Test Gold Standard/27/27_202403838_18.html\n",
            "\n",
            "Elaboro file: /gdrive/MyDrive/NomosAI/Docs-Condivisi-NomosAI/Test Gold Standard/26/26_202403848_11.html\n",
            "\n",
            "ERRORE sentenza: /gdrive/MyDrive/NomosAI/Docs-Condivisi-NomosAI/Test Gold Standard/26/26_202403848_11.html MODEL: gpt-3.5-turbo+ PROMPT: system_message_C.txt\n",
            "\n",
            "Elaboro file: /gdrive/MyDrive/NomosAI/Docs-Condivisi-NomosAI/Test Gold Standard/23/23_202403858_11.html\n",
            "\n",
            "Elaboro file: /gdrive/MyDrive/NomosAI/Docs-Condivisi-NomosAI/Test Gold Standard/16/16_202409124_08.html\n",
            "\n",
            "Elaboro file: /gdrive/MyDrive/NomosAI/Docs-Condivisi-NomosAI/Test Gold Standard/12/12_202404207_18.html\n",
            "\n",
            "Elaboro file: /gdrive/MyDrive/NomosAI/Docs-Condivisi-NomosAI/Test Gold Standard/1/01_202401843_08.html\n",
            "\n",
            "Elaboro file: /gdrive/MyDrive/NomosAI/Docs-Condivisi-NomosAI/Test Gold Standard/11/11_202404206_11.html\n",
            "\n",
            "Elaboro file: /gdrive/MyDrive/NomosAI/Docs-Condivisi-NomosAI/Test Gold Standard/18/18_202400011_11.html\n",
            "\n",
            "ERRORE sentenza: /gdrive/MyDrive/NomosAI/Docs-Condivisi-NomosAI/Test Gold Standard/18/18_202400011_11.html MODEL: gpt-3.5-turbo+ PROMPT: system_message_C.txt\n",
            "\n",
            "Elaboro file: /gdrive/MyDrive/NomosAI/Docs-Condivisi-NomosAI/Test Gold Standard/17/17_202404112_11.html\n",
            "\n",
            "ERRORE sentenza: /gdrive/MyDrive/NomosAI/Docs-Condivisi-NomosAI/Test Gold Standard/17/17_202404112_11.html MODEL: gpt-3.5-turbo+ PROMPT: system_message_C.txt\n",
            "\n",
            "Elaboro file: /gdrive/MyDrive/NomosAI/Docs-Condivisi-NomosAI/Test Gold Standard/14/14_202404278_11.html\n",
            "\n",
            "Elaboro file: /gdrive/MyDrive/NomosAI/Docs-Condivisi-NomosAI/Test Gold Standard/13/13_202404247_11.html\n",
            "\n",
            "Elaboro file: /gdrive/MyDrive/NomosAI/Docs-Condivisi-NomosAI/Test Gold Standard/15/15_202409315_01.html\n",
            "\n",
            "ERRORE sentenza: /gdrive/MyDrive/NomosAI/Docs-Condivisi-NomosAI/Test Gold Standard/15/15_202409315_01.html MODEL: gpt-4o-2024-05-13+ PROMPT: system_message_C.txt\n",
            "\n",
            "ERRORE sentenza: /gdrive/MyDrive/NomosAI/Docs-Condivisi-NomosAI/Test Gold Standard/15/15_202409315_01.html MODEL: gpt-4-turbo-2024-04-09+ PROMPT: system_message_C.txt\n",
            "\n",
            "ERRORE sentenza: /gdrive/MyDrive/NomosAI/Docs-Condivisi-NomosAI/Test Gold Standard/15/15_202409315_01.html MODEL: gpt-3.5-turbo+ PROMPT: system_message_C.txt\n",
            "\n",
            "Elaboro file: /gdrive/MyDrive/NomosAI/Docs-Condivisi-NomosAI/Test Gold Standard/10/10_Cons. Stato, sez. VI, ord. 9 maggio 2024, n. 4196 – Pres. Simonetti, Est. Pascuzzi.html\n",
            "\n",
            "ERRORE sentenza: /gdrive/MyDrive/NomosAI/Docs-Condivisi-NomosAI/Test Gold Standard/10/10_Cons. Stato, sez. VI, ord. 9 maggio 2024, n. 4196 – Pres. Simonetti, Est. Pascuzzi.html MODEL: gpt-3.5-turbo+ PROMPT: system_message_C.txt\n",
            "\n"
          ]
        }
      ]
    }
  ]
}