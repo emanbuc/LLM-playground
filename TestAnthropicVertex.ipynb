{
  "nbformat": 4,
  "nbformat_minor": 0,
  "metadata": {
    "colab": {
      "provenance": [],
      "authorship_tag": "ABX9TyMydk4+WoZiSZplxQkgxyhk",
      "include_colab_link": true
    },
    "kernelspec": {
      "name": "python3",
      "display_name": "Python 3"
    },
    "language_info": {
      "name": "python"
    },
    "widgets": {
      "application/vnd.jupyter.widget-state+json": {
        "cfac07dd3a35499daaac20ce892032d7": {
          "model_module": "@jupyter-widgets/controls",
          "model_name": "DropdownModel",
          "model_module_version": "1.5.0",
          "state": {
            "_dom_classes": [],
            "_model_module": "@jupyter-widgets/controls",
            "_model_module_version": "1.5.0",
            "_model_name": "DropdownModel",
            "_options_labels": [
              "us-central1",
              "asia-southeast1"
            ],
            "_view_count": null,
            "_view_module": "@jupyter-widgets/controls",
            "_view_module_version": "1.5.0",
            "_view_name": "DropdownView",
            "description": "Select a region:",
            "description_tooltip": null,
            "disabled": false,
            "index": 0,
            "layout": "IPY_MODEL_faef08a690b24c48aa2b73dae3fc171c",
            "style": "IPY_MODEL_0041de27bab54dea81b1b2540d37aa74"
          }
        },
        "faef08a690b24c48aa2b73dae3fc171c": {
          "model_module": "@jupyter-widgets/base",
          "model_name": "LayoutModel",
          "model_module_version": "1.2.0",
          "state": {
            "_model_module": "@jupyter-widgets/base",
            "_model_module_version": "1.2.0",
            "_model_name": "LayoutModel",
            "_view_count": null,
            "_view_module": "@jupyter-widgets/base",
            "_view_module_version": "1.2.0",
            "_view_name": "LayoutView",
            "align_content": null,
            "align_items": null,
            "align_self": null,
            "border": null,
            "bottom": null,
            "display": null,
            "flex": null,
            "flex_flow": null,
            "grid_area": null,
            "grid_auto_columns": null,
            "grid_auto_flow": null,
            "grid_auto_rows": null,
            "grid_column": null,
            "grid_gap": null,
            "grid_row": null,
            "grid_template_areas": null,
            "grid_template_columns": null,
            "grid_template_rows": null,
            "height": null,
            "justify_content": null,
            "justify_items": null,
            "left": null,
            "margin": null,
            "max_height": null,
            "max_width": null,
            "min_height": null,
            "min_width": null,
            "object_fit": null,
            "object_position": null,
            "order": null,
            "overflow": null,
            "overflow_x": null,
            "overflow_y": null,
            "padding": null,
            "right": null,
            "top": null,
            "visibility": null,
            "width": null
          }
        },
        "0041de27bab54dea81b1b2540d37aa74": {
          "model_module": "@jupyter-widgets/controls",
          "model_name": "DescriptionStyleModel",
          "model_module_version": "1.5.0",
          "state": {
            "_model_module": "@jupyter-widgets/controls",
            "_model_module_version": "1.5.0",
            "_model_name": "DescriptionStyleModel",
            "_view_count": null,
            "_view_module": "@jupyter-widgets/base",
            "_view_module_version": "1.2.0",
            "_view_name": "StyleView",
            "description_width": "initial"
          }
        }
      }
    }
  },
  "cells": [
    {
      "cell_type": "markdown",
      "metadata": {
        "id": "view-in-github",
        "colab_type": "text"
      },
      "source": [
        "<a href=\"https://colab.research.google.com/github/emanbuc/LLM-playground/blob/master/TestAnthropicVertex.ipynb\" target=\"_parent\"><img src=\"https://colab.research.google.com/assets/colab-badge.svg\" alt=\"Open In Colab\"/></a>"
      ]
    },
    {
      "cell_type": "code",
      "source": [],
      "metadata": {
        "id": "IIvl06XlmlVV"
      },
      "execution_count": null,
      "outputs": []
    },
    {
      "cell_type": "markdown",
      "source": [
        "## Software setup"
      ],
      "metadata": {
        "id": "NzFJ72TXfATs"
      }
    },
    {
      "cell_type": "markdown",
      "source": [
        "\n",
        "```\n",
        "function ClickConnect(){\n",
        "    console.log(\"Clicked on connect button\");\n",
        "    document.querySelector(\"colab-connect-button\").click()\n",
        " }\n",
        " setInterval(ClickConnect,60000)\n",
        "```\n",
        "\n"
      ],
      "metadata": {
        "id": "tItSRkdGmkrR"
      }
    },
    {
      "cell_type": "code",
      "source": [
        "!pip install anthropic bs4"
      ],
      "metadata": {
        "colab": {
          "base_uri": "https://localhost:8080/"
        },
        "id": "hPj6qUa6-t5W",
        "outputId": "b8db3bbe-6b2a-4214-dc5d-1877dda07913"
      },
      "execution_count": 17,
      "outputs": [
        {
          "output_type": "stream",
          "name": "stdout",
          "text": [
            "Requirement already satisfied: anthropic in /usr/local/lib/python3.10/dist-packages (0.28.0)\n",
            "Requirement already satisfied: bs4 in /usr/local/lib/python3.10/dist-packages (0.0.2)\n",
            "Requirement already satisfied: anyio<5,>=3.5.0 in /usr/local/lib/python3.10/dist-packages (from anthropic) (3.7.1)\n",
            "Requirement already satisfied: distro<2,>=1.7.0 in /usr/lib/python3/dist-packages (from anthropic) (1.7.0)\n",
            "Requirement already satisfied: httpx<1,>=0.23.0 in /usr/local/lib/python3.10/dist-packages (from anthropic) (0.27.0)\n",
            "Requirement already satisfied: jiter<1,>=0.4.0 in /usr/local/lib/python3.10/dist-packages (from anthropic) (0.4.1)\n",
            "Requirement already satisfied: pydantic<3,>=1.9.0 in /usr/local/lib/python3.10/dist-packages (from anthropic) (2.7.1)\n",
            "Requirement already satisfied: sniffio in /usr/local/lib/python3.10/dist-packages (from anthropic) (1.3.1)\n",
            "Requirement already satisfied: tokenizers>=0.13.0 in /usr/local/lib/python3.10/dist-packages (from anthropic) (0.19.1)\n",
            "Requirement already satisfied: typing-extensions<5,>=4.7 in /usr/local/lib/python3.10/dist-packages (from anthropic) (4.11.0)\n",
            "Requirement already satisfied: beautifulsoup4 in /usr/local/lib/python3.10/dist-packages (from bs4) (4.12.3)\n",
            "Requirement already satisfied: idna>=2.8 in /usr/local/lib/python3.10/dist-packages (from anyio<5,>=3.5.0->anthropic) (3.7)\n",
            "Requirement already satisfied: exceptiongroup in /usr/local/lib/python3.10/dist-packages (from anyio<5,>=3.5.0->anthropic) (1.2.1)\n",
            "Requirement already satisfied: certifi in /usr/local/lib/python3.10/dist-packages (from httpx<1,>=0.23.0->anthropic) (2024.2.2)\n",
            "Requirement already satisfied: httpcore==1.* in /usr/local/lib/python3.10/dist-packages (from httpx<1,>=0.23.0->anthropic) (1.0.5)\n",
            "Requirement already satisfied: h11<0.15,>=0.13 in /usr/local/lib/python3.10/dist-packages (from httpcore==1.*->httpx<1,>=0.23.0->anthropic) (0.14.0)\n",
            "Requirement already satisfied: annotated-types>=0.4.0 in /usr/local/lib/python3.10/dist-packages (from pydantic<3,>=1.9.0->anthropic) (0.7.0)\n",
            "Requirement already satisfied: pydantic-core==2.18.2 in /usr/local/lib/python3.10/dist-packages (from pydantic<3,>=1.9.0->anthropic) (2.18.2)\n",
            "Requirement already satisfied: huggingface-hub<1.0,>=0.16.4 in /usr/local/lib/python3.10/dist-packages (from tokenizers>=0.13.0->anthropic) (0.23.1)\n",
            "Requirement already satisfied: soupsieve>1.2 in /usr/local/lib/python3.10/dist-packages (from beautifulsoup4->bs4) (2.5)\n",
            "Requirement already satisfied: filelock in /usr/local/lib/python3.10/dist-packages (from huggingface-hub<1.0,>=0.16.4->tokenizers>=0.13.0->anthropic) (3.14.0)\n",
            "Requirement already satisfied: fsspec>=2023.5.0 in /usr/local/lib/python3.10/dist-packages (from huggingface-hub<1.0,>=0.16.4->tokenizers>=0.13.0->anthropic) (2023.6.0)\n",
            "Requirement already satisfied: packaging>=20.9 in /usr/local/lib/python3.10/dist-packages (from huggingface-hub<1.0,>=0.16.4->tokenizers>=0.13.0->anthropic) (24.0)\n",
            "Requirement already satisfied: pyyaml>=5.1 in /usr/local/lib/python3.10/dist-packages (from huggingface-hub<1.0,>=0.16.4->tokenizers>=0.13.0->anthropic) (6.0.1)\n",
            "Requirement already satisfied: requests in /usr/local/lib/python3.10/dist-packages (from huggingface-hub<1.0,>=0.16.4->tokenizers>=0.13.0->anthropic) (2.31.0)\n",
            "Requirement already satisfied: tqdm>=4.42.1 in /usr/local/lib/python3.10/dist-packages (from huggingface-hub<1.0,>=0.16.4->tokenizers>=0.13.0->anthropic) (4.66.4)\n",
            "Requirement already satisfied: charset-normalizer<4,>=2 in /usr/local/lib/python3.10/dist-packages (from requests->huggingface-hub<1.0,>=0.16.4->tokenizers>=0.13.0->anthropic) (3.3.2)\n",
            "Requirement already satisfied: urllib3<3,>=1.21.1 in /usr/local/lib/python3.10/dist-packages (from requests->huggingface-hub<1.0,>=0.16.4->tokenizers>=0.13.0->anthropic) (2.0.7)\n"
          ]
        }
      ]
    },
    {
      "cell_type": "code",
      "source": [
        "!pip freeze > requirements.txt"
      ],
      "metadata": {
        "id": "1NhJ15pZe95r"
      },
      "execution_count": 18,
      "outputs": []
    },
    {
      "cell_type": "markdown",
      "source": [
        "## Setup Antrhopic Vertex"
      ],
      "metadata": {
        "id": "SWMypynN-_3b"
      }
    },
    {
      "cell_type": "code",
      "execution_count": 19,
      "metadata": {
        "id": "9Q0MBxdR79l_"
      },
      "outputs": [],
      "source": [
        "MODEL = \"claude-3-opus@20240229\"  # @param [\"claude-3-sonnet@20240229\", \"claude-3-haiku@20240307\", \"claude-3-opus@20240229\"]\n",
        "if MODEL == \"claude-3-sonnet@20240229\":\n",
        "    available_regions = [\"us-central1\", \"asia-southeast1\"]\n",
        "elif MODEL == \"claude-3-haiku@20240307\":\n",
        "    available_regions = [\"us-central1\", \"europe-west4\"]\n",
        "else:\n",
        "    available_regions = [\"us-east5\"]"
      ]
    },
    {
      "cell_type": "code",
      "source": [
        "import ipywidgets as widgets\n",
        "from IPython.display import display\n",
        "\n",
        "dropdown = widgets.Dropdown(\n",
        "    options=available_regions,\n",
        "    description=\"Select a region:\",\n",
        "    font_weight=\"bold\",\n",
        "    style={\"description_width\": \"initial\"},\n",
        ")\n",
        "\n",
        "\n",
        "def dropdown_eventhandler(change):\n",
        "    global REGION\n",
        "    if change[\"type\"] == \"change\" and change[\"name\"] == \"value\":\n",
        "        REGION = change.new\n",
        "        print(\"Selected:\", change.new)\n",
        "\n",
        "\n",
        "REGION = dropdown.value\n",
        "dropdown.observe(dropdown_eventhandler, names=\"value\")\n",
        "display(dropdown)"
      ],
      "metadata": {
        "colab": {
          "base_uri": "https://localhost:8080/",
          "height": 49,
          "referenced_widgets": [
            "cfac07dd3a35499daaac20ce892032d7",
            "faef08a690b24c48aa2b73dae3fc171c",
            "0041de27bab54dea81b1b2540d37aa74"
          ]
        },
        "id": "0QXjqG6q8KCt",
        "outputId": "61eadc09-c44a-433f-b3b4-2e804a743893"
      },
      "execution_count": 20,
      "outputs": [
        {
          "output_type": "display_data",
          "data": {
            "text/plain": [
              "Dropdown(description='Select a region:', options=('us-central1', 'asia-southeast1'), style=DescriptionStyle(de…"
            ],
            "application/vnd.jupyter.widget-view+json": {
              "version_major": 2,
              "version_minor": 0,
              "model_id": "cfac07dd3a35499daaac20ce892032d7"
            }
          },
          "metadata": {}
        }
      ]
    },
    {
      "cell_type": "markdown",
      "source": [
        "### Define Google Cloud project and model information"
      ],
      "metadata": {
        "id": "5J_pyj3L8SBK"
      }
    },
    {
      "cell_type": "code",
      "source": [
        "PROJECT_ID = \"massimizzatore-2024-05\"  # @param {type:\"string\"}\n",
        "ENDPOINT = f\"https://{REGION}-aiplatform.googleapis.com\"\n",
        "\n",
        "if not PROJECT_ID or PROJECT_ID == \"[your-project-id]\":\n",
        "    raise ValueError(\"Please set your PROJECT_ID\")"
      ],
      "metadata": {
        "id": "C_rCl4LZ8VGZ"
      },
      "execution_count": 21,
      "outputs": []
    },
    {
      "cell_type": "code",
      "source": [
        "from google.colab import auth\n",
        "auth.authenticate_user(project_id=PROJECT_ID)"
      ],
      "metadata": {
        "id": "8t04Y0Ov9alA"
      },
      "execution_count": 22,
      "outputs": []
    },
    {
      "cell_type": "markdown",
      "source": [
        "## Test AnthropicVertex"
      ],
      "metadata": {
        "id": "Imie2Z02_JT_"
      }
    },
    {
      "cell_type": "code",
      "source": [
        "from anthropic import AnthropicVertex\n",
        "\n",
        "client = AnthropicVertex(region=REGION, project_id=PROJECT_ID)\n",
        "message = client.messages.create(\n",
        "    max_tokens=1024,\n",
        "    messages=[\n",
        "        {\n",
        "            \"role\": \"user\",\n",
        "            \"content\": \"Send me a recipe for banana bread.\",\n",
        "        }\n",
        "    ],\n",
        "    model=MODEL,\n",
        ")\n",
        "print(message.model_dump_json(indent=2))"
      ],
      "metadata": {
        "colab": {
          "base_uri": "https://localhost:8080/"
        },
        "id": "oEeH0vCz-Uqz",
        "outputId": "6d184243-2841-4403-b21b-2d5bd50eea9e"
      },
      "execution_count": 23,
      "outputs": [
        {
          "output_type": "stream",
          "name": "stdout",
          "text": [
            "{\n",
            "  \"id\": \"msg_vrtx_01Y14XZhjHJiyFAbq4DQSdxn\",\n",
            "  \"content\": [\n",
            "    {\n",
            "      \"text\": \"Here is a classic recipe for banana bread:\\n\\nBanana Bread\\n\\nIngredients:\\n- 1 3/4 cups (220g) all-purpose flour\\n- 1 teaspoon baking soda\\n- 1/4 teaspoon salt\\n- 1/2 cup (115g) unsalted butter, softened\\n- 3/4 cup (150g) granulated sugar\\n- 2 large eggs\\n- 1 teaspoon vanilla extract\\n- 1 1/4 cups (300g) mashed ripe bananas (about 3 medium bananas)\\n\\nInstructions:\\n\\n1. Preheat oven to 350°F (177°C). Grease a 9x5 inch loaf pan and set aside.\\n\\n2. In a medium bowl, whisk together the flour, baking soda and salt. Set aside.\\n\\n3. In a large bowl, beat the butter and sugar together until light and fluffy, about 2-3 minutes. Beat in the eggs one at a time, then stir in the vanilla and mashed bananas until combined. \\n\\n4. Fold the dry ingredients into the wet ingredients until just combined, being careful not to overmix.\\n\\n5. Pour the batter into the prepared loaf pan and bake for 55-65 minutes, until a toothpick inserted in the center comes out clean.\\n\\n6. Allow the bread to cool in the pan for 10 minutes, then transfer to a wire rack to cool completely before slicing.\\n\\nOptionally, you can add 1/2 cup of nuts like walnuts or pecans, or chocolate chips to the batter before baking. Enjoy your homemade fresh banana bread!\",\n",
            "      \"type\": \"text\"\n",
            "    }\n",
            "  ],\n",
            "  \"model\": \"claude-3-sonnet-20240229\",\n",
            "  \"role\": \"assistant\",\n",
            "  \"stop_reason\": \"end_turn\",\n",
            "  \"stop_sequence\": null,\n",
            "  \"type\": \"message\",\n",
            "  \"usage\": {\n",
            "    \"input_tokens\": 15,\n",
            "    \"output_tokens\": 394\n",
            "  }\n",
            "}\n"
          ]
        }
      ]
    },
    {
      "cell_type": "markdown",
      "source": [
        "## Cofigurazione Esprimento"
      ],
      "metadata": {
        "id": "u6jUMOi8eqZd"
      }
    },
    {
      "cell_type": "code",
      "source": [
        "config= {\n",
        "    \"massime_path\": \"/gdrive/MyDrive/Massime/test12\",#\"/gdrive/MyDrive/NomosAI/Massime\",\n",
        "    \"sentenze_path\": \"/gdrive/MyDrive/Docs-Condivisi-NomosAI/Test Gold Standard\", #\"/gdrive/MyDrive/NomosAI/Sentenze\",\n",
        "    \"prompt_path\":\"/gdrive/MyDrive/Prompt\",\n",
        "    \"models\":[\"claude-3-sonnet@20240229\",\"claude-3-haiku@20240307\"], #\"claude-3-opus@20240229\"\n",
        "    \"prompts\":[\"system_message_E.txt\"],#[\"system_message_A.txt\",\"system_message_B.txt\",\"system_message_C.txt\"],\n",
        "    \"debug\": False\n",
        "}"
      ],
      "metadata": {
        "id": "WHDTlypd_ljN"
      },
      "execution_count": 38,
      "outputs": []
    },
    {
      "cell_type": "markdown",
      "source": [
        "## Estrazione massime da sentenze su Google Drive"
      ],
      "metadata": {
        "id": "lyFV707S_Sws"
      }
    },
    {
      "cell_type": "code",
      "source": [
        "from google.colab import drive\n",
        "drive.mount('/gdrive')"
      ],
      "metadata": {
        "colab": {
          "base_uri": "https://localhost:8080/"
        },
        "id": "zfTOeAza8dxh",
        "outputId": "c69724eb-13b0-4279-9646-d1936234655e"
      },
      "execution_count": 25,
      "outputs": [
        {
          "output_type": "stream",
          "name": "stdout",
          "text": [
            "Drive already mounted at /gdrive; to attempt to forcibly remount, call drive.mount(\"/gdrive\", force_remount=True).\n"
          ]
        }
      ]
    },
    {
      "cell_type": "code",
      "source": [
        "\n",
        "def create_text_file_dict_from_folder(folder_path):\n",
        "    import os\n",
        "    import glob\n",
        "    # Initialize an empty dictionary\n",
        "    text_files_dict = {}\n",
        "\n",
        "    # Create the pattern for .txt files\n",
        "    pattern = os.path.join(folder_path, '*.txt')\n",
        "\n",
        "    # Find all .txt files matching the pattern\n",
        "    for file_path in glob.glob(pattern):\n",
        "        # Extract the file name from the file path\n",
        "        file_name = os.path.basename(file_path)\n",
        "\n",
        "        # Read the content of the file\n",
        "        with open(file_path, 'r', encoding='utf-8') as file:\n",
        "            content = file.read()\n",
        "\n",
        "        # Add the file name and content to the dictionary\n",
        "        text_files_dict[file_name] = content\n",
        "\n",
        "    return text_files_dict"
      ],
      "metadata": {
        "id": "MWChCE1p_XcD"
      },
      "execution_count": 26,
      "outputs": []
    },
    {
      "cell_type": "code",
      "source": [
        "def save_output_as_text_file(filename,text_content):\n",
        "  percorso_file = os.path.join(config[\"massime_path\"], filename)\n",
        "  with open(percorso_file+'.txt', 'w') as f:\n",
        "    f.write(text_content)"
      ],
      "metadata": {
        "id": "y6xStFcGALxa"
      },
      "execution_count": 27,
      "outputs": []
    },
    {
      "cell_type": "code",
      "source": [
        "def genera_massima_anthropic(prompt_file,sentenza,model,output_file_name):\n",
        "\n",
        "    prompt = prompts_files_dict[prompt_file]\n",
        "    messages = [\n",
        "      {'role':'user',\n",
        "      'content':sentenza},\n",
        "      ]\n",
        "\n",
        "    if(config[\"debug\"]):\n",
        "      print(\"====== promt: ========== \\n\")\n",
        "      print(prompt)\n",
        "\n",
        "      print(\" ======== sentenza =======\\n\")\n",
        "      print(sentenza)\n",
        "\n",
        "\n",
        "    response, token_dict = get_completion_and_token_count_anthropicAPI(messages,prompt,model=model,max_tokens= 1000)\n",
        "\n",
        "    if(config[\"debug\"]):\n",
        "      print(\" ======= response =========\\n\")\n",
        "\n",
        "      print(response)\n",
        "\n",
        "      print(\"======== tokens_dict ========= \\n\")\n",
        "\n",
        "      print(token_dict)\n",
        "    save_output_as_text_file(output_file_name+\"_\"+model+\"_\"+prompt_file,response)"
      ],
      "metadata": {
        "id": "5HQCT57YAQtz"
      },
      "execution_count": 28,
      "outputs": []
    },
    {
      "cell_type": "code",
      "source": [
        "def get_completion_and_token_count_anthropicAPI(messages,system_message,\n",
        "                                   model=\"claude-3-sonnet@20240229\",\n",
        "                                   temperature=0,\n",
        "                                   max_tokens=1000):\n",
        "\n",
        "\n",
        "  client = AnthropicVertex(region=REGION, project_id=PROJECT_ID)\n",
        "  response = client.messages.create(\n",
        "        model=model,\n",
        "        system=system_message,\n",
        "        messages=messages,\n",
        "        temperature=temperature,\n",
        "        max_tokens=max_tokens,\n",
        "  )\n",
        "  # print(response.model_dump_json(indent=2))\n",
        "\n",
        "  content = response.content[0].text\n",
        "\n",
        "  token_dict = {\n",
        "    'prompt_tokens':response.usage.input_tokens,\n",
        "    'completion_tokens':response.usage.output_tokens,\n",
        "    'total_tokens':response.usage.input_tokens + response.usage.output_tokens\n",
        "  }\n",
        "\n",
        "  return content, token_dict\n"
      ],
      "metadata": {
        "id": "j1m4BIGoAdVs"
      },
      "execution_count": 29,
      "outputs": []
    },
    {
      "cell_type": "code",
      "source": [
        "prompts_files_dict = create_text_file_dict_from_folder(config[\"prompt_path\"])\n",
        "for file_name, content in prompts_files_dict.items():\n",
        "    print(f'File: {file_name}\\n')"
      ],
      "metadata": {
        "colab": {
          "base_uri": "https://localhost:8080/"
        },
        "id": "9Y4NcfHF_g4j",
        "outputId": "800bccca-4cae-4cf2-a365-e98cf7cf986d"
      },
      "execution_count": 30,
      "outputs": [
        {
          "output_type": "stream",
          "name": "stdout",
          "text": [
            "File: system_message_A.txt\n",
            "\n",
            "File: system_message_B.txt\n",
            "\n",
            "File: system_message_C.txt\n",
            "\n",
            "File: system_message_D.txt\n",
            "\n",
            "File: system_message_E.txt\n",
            "\n"
          ]
        }
      ]
    },
    {
      "cell_type": "code",
      "source": [
        "from bs4 import BeautifulSoup\n",
        "import time\n",
        "\n",
        "import os\n",
        "for radice, cartelle, file in os.walk(config[\"sentenze_path\"]):\n",
        "    for f in file:\n",
        "      if f.endswith('.html'):\n",
        "        percorso_file = os.path.join(radice, f)\n",
        "        with open(percorso_file, 'r', encoding='utf-8') as fh:\n",
        "          sentenza = fh.read()\n",
        "\n",
        "          print(\"Elaboro file: \"+ percorso_file + \"\\n\")\n",
        "\n",
        "          soup = BeautifulSoup(sentenza, 'html.parser')\n",
        "\n",
        "          # Estrai il testo da tutti i tag\n",
        "          testoSentenza = ''\n",
        "          for paragrafo in soup.find_all('p'):\n",
        "              testoSentenza += paragrafo.text + '\\n'\n",
        "\n",
        "          save_output_as_text_file(f+\"_TESTO_SENTENZA\",testoSentenza)\n",
        "\n",
        "          for prompt_file in config[\"prompts\"]:\n",
        "            for model in config[\"models\"]:\n",
        "              try:\n",
        "                time.sleep(30)\n",
        "                genera_massima_anthropic(prompt_file,testoSentenza,model,f)\n",
        "              except Exception as e:\n",
        "                print(\"ERRORE sentenza: \"+ percorso_file + \" MODEL: \"+model+\"+ PROMPT: \"+ prompt_file +\"\\n\")\n",
        "                print(f\"An error occurred: {e}\")"
      ],
      "metadata": {
        "colab": {
          "base_uri": "https://localhost:8080/"
        },
        "id": "7SPjn43zeN6Q",
        "outputId": "cf24ae78-7038-4ed9-aeaf-2deabaef52e7"
      },
      "execution_count": 40,
      "outputs": [
        {
          "output_type": "stream",
          "name": "stdout",
          "text": [
            "Elaboro file: /gdrive/MyDrive/Docs-Condivisi-NomosAI/Test Gold Standard/84/84_202400003_11.html\n",
            "\n",
            "Elaboro file: /gdrive/MyDrive/Docs-Condivisi-NomosAI/Test Gold Standard/87/87_202400797_01.html\n",
            "\n",
            "Elaboro file: /gdrive/MyDrive/Docs-Condivisi-NomosAI/Test Gold Standard/85/85_202400419_01.html\n",
            "\n",
            "Elaboro file: /gdrive/MyDrive/Docs-Condivisi-NomosAI/Test Gold Standard/82/82_202400894_15.html\n",
            "\n",
            "Elaboro file: /gdrive/MyDrive/Docs-Condivisi-NomosAI/Test Gold Standard/89/89_202402196_11.html\n",
            "\n",
            "Elaboro file: /gdrive/MyDrive/Docs-Condivisi-NomosAI/Test Gold Standard/9/09_202404155_11.html\n",
            "\n",
            "Elaboro file: /gdrive/MyDrive/Docs-Condivisi-NomosAI/Test Gold Standard/83/83_202400954_01.html\n",
            "\n",
            "Elaboro file: /gdrive/MyDrive/Docs-Condivisi-NomosAI/Test Gold Standard/86/86_202402251_23.html\n",
            "\n",
            "Elaboro file: /gdrive/MyDrive/Docs-Condivisi-NomosAI/Test Gold Standard/90/90_202402227_11.html\n",
            "\n",
            "Elaboro file: /gdrive/MyDrive/Docs-Condivisi-NomosAI/Test Gold Standard/88/88_202402255_11.html\n",
            "\n",
            "Elaboro file: /gdrive/MyDrive/Docs-Condivisi-NomosAI/Test Gold Standard/79/79_202402395_11.html\n",
            "\n",
            "Elaboro file: /gdrive/MyDrive/Docs-Condivisi-NomosAI/Test Gold Standard/76/76_202400566_20.html\n",
            "\n",
            "Elaboro file: /gdrive/MyDrive/Docs-Condivisi-NomosAI/Test Gold Standard/74/74_202318854_01.html\n",
            "\n",
            "Elaboro file: /gdrive/MyDrive/Docs-Condivisi-NomosAI/Test Gold Standard/75/75_202404349_11.html\n",
            "\n",
            "Elaboro file: /gdrive/MyDrive/Docs-Condivisi-NomosAI/Test Gold Standard/8/08_202401696_01.html\n",
            "\n",
            "Elaboro file: /gdrive/MyDrive/Docs-Condivisi-NomosAI/Test Gold Standard/77/77_202402454_11.html\n",
            "\n",
            "Elaboro file: /gdrive/MyDrive/Docs-Condivisi-NomosAI/Test Gold Standard/78/78_202402413_11.html\n",
            "\n",
            "Elaboro file: /gdrive/MyDrive/Docs-Condivisi-NomosAI/Test Gold Standard/80/80_202400953_01.html\n",
            "\n",
            "Elaboro file: /gdrive/MyDrive/Docs-Condivisi-NomosAI/Test Gold Standard/73/73_202402556_18.html\n",
            "\n",
            "Elaboro file: /gdrive/MyDrive/Docs-Condivisi-NomosAI/Test Gold Standard/81/81_202400458_01.html\n",
            "\n",
            "Elaboro file: /gdrive/MyDrive/Docs-Condivisi-NomosAI/Test Gold Standard/64/64_202400004_11.html\n",
            "\n",
            "Elaboro file: /gdrive/MyDrive/Docs-Condivisi-NomosAI/Test Gold Standard/69/69_202402567_11.html\n",
            "\n",
            "Elaboro file: /gdrive/MyDrive/Docs-Condivisi-NomosAI/Test Gold Standard/7/07_202400144_01.html\n",
            "\n",
            "Elaboro file: /gdrive/MyDrive/Docs-Condivisi-NomosAI/Test Gold Standard/71/71_202402606_11.html\n",
            "\n",
            "Elaboro file: /gdrive/MyDrive/Docs-Condivisi-NomosAI/Test Gold Standard/72/72_202402515_11.html\n",
            "\n",
            "Elaboro file: /gdrive/MyDrive/Docs-Condivisi-NomosAI/Test Gold Standard/66/66_202403203_11.html\n",
            "\n",
            "Elaboro file: /gdrive/MyDrive/Docs-Condivisi-NomosAI/Test Gold Standard/65/65_202403266_11.html\n",
            "\n",
            "Elaboro file: /gdrive/MyDrive/Docs-Condivisi-NomosAI/Test Gold Standard/67/67_202402694_11.html\n",
            "\n",
            "Elaboro file: /gdrive/MyDrive/Docs-Condivisi-NomosAI/Test Gold Standard/68/68_202402679_11.html\n",
            "\n",
            "Elaboro file: /gdrive/MyDrive/Docs-Condivisi-NomosAI/Test Gold Standard/70/70_202300414_16.html\n",
            "\n",
            "Elaboro file: /gdrive/MyDrive/Docs-Condivisi-NomosAI/Test Gold Standard/56/56_202310965_11.html\n",
            "\n",
            "Elaboro file: /gdrive/MyDrive/Docs-Condivisi-NomosAI/Test Gold Standard/57/57_202403007_11.html\n",
            "\n",
            "Elaboro file: /gdrive/MyDrive/Docs-Condivisi-NomosAI/Test Gold Standard/61/61_202400254_01.html\n",
            "\n",
            "Elaboro file: /gdrive/MyDrive/Docs-Condivisi-NomosAI/Test Gold Standard/55/55_202403105_11.html\n",
            "\n",
            "Elaboro file: /gdrive/MyDrive/Docs-Condivisi-NomosAI/Test Gold Standard/62/62_202400005_18.html\n",
            "\n",
            "Elaboro file: /gdrive/MyDrive/Docs-Condivisi-NomosAI/Test Gold Standard/6/06_202404321_11.html\n",
            "\n",
            "Elaboro file: /gdrive/MyDrive/Docs-Condivisi-NomosAI/Test Gold Standard/63/63_202402407_01.html\n",
            "\n",
            "Elaboro file: /gdrive/MyDrive/Docs-Condivisi-NomosAI/Test Gold Standard/58/58_202402964_11.html\n",
            "\n",
            "Elaboro file: /gdrive/MyDrive/Docs-Condivisi-NomosAI/Test Gold Standard/59/59_202400233_11.html\n",
            "\n",
            "Elaboro file: /gdrive/MyDrive/Docs-Condivisi-NomosAI/Test Gold Standard/60/60_202310976_11.html\n",
            "\n",
            "Elaboro file: /gdrive/MyDrive/Docs-Condivisi-NomosAI/Test Gold Standard/53/53_202403164_11.html\n",
            "\n",
            "Elaboro file: /gdrive/MyDrive/Docs-Condivisi-NomosAI/Test Gold Standard/5/05_202400364_18.html\n",
            "\n",
            "Elaboro file: /gdrive/MyDrive/Docs-Condivisi-NomosAI/Test Gold Standard/47/47_202402798_11.html\n",
            "\n",
            "Elaboro file: /gdrive/MyDrive/Docs-Condivisi-NomosAI/Test Gold Standard/54/54_202403095_11.html\n",
            "\n",
            "Elaboro file: /gdrive/MyDrive/Docs-Condivisi-NomosAI/Test Gold Standard/52/52_202403126_18.html\n",
            "\n",
            "Elaboro file: /gdrive/MyDrive/Docs-Condivisi-NomosAI/Test Gold Standard/50/50_202403194_11.html\n",
            "\n",
            "Elaboro file: /gdrive/MyDrive/Docs-Condivisi-NomosAI/Test Gold Standard/51/51_202400625_08.html\n",
            "\n",
            "Elaboro file: /gdrive/MyDrive/Docs-Condivisi-NomosAI/Test Gold Standard/48/48_202402791_11.html\n",
            "\n",
            "Elaboro file: /gdrive/MyDrive/Docs-Condivisi-NomosAI/Test Gold Standard/46/46_202400243_01.html\n",
            "\n",
            "Elaboro file: /gdrive/MyDrive/Docs-Condivisi-NomosAI/Test Gold Standard/49/49_202310974_11.html\n",
            "\n",
            "Elaboro file: /gdrive/MyDrive/Docs-Condivisi-NomosAI/Test Gold Standard/42/42_202402882_11.html\n",
            "\n",
            "Elaboro file: /gdrive/MyDrive/Docs-Condivisi-NomosAI/Test Gold Standard/43/43_202402866_11.html\n",
            "\n",
            "Elaboro file: /gdrive/MyDrive/Docs-Condivisi-NomosAI/Test Gold Standard/40/40_202300212_08.html\n",
            "\n",
            "Elaboro file: /gdrive/MyDrive/Docs-Condivisi-NomosAI/Test Gold Standard/38/38_202400258_01.html\n",
            "\n",
            "Elaboro file: /gdrive/MyDrive/Docs-Condivisi-NomosAI/Test Gold Standard/44/44_202402815_11.html\n",
            "\n",
            "Elaboro file: /gdrive/MyDrive/Docs-Condivisi-NomosAI/Test Gold Standard/41/41_202402905_11.html\n",
            "\n",
            "Elaboro file: /gdrive/MyDrive/Docs-Condivisi-NomosAI/Test Gold Standard/45/45_202403305_11.html\n",
            "\n",
            "Elaboro file: /gdrive/MyDrive/Docs-Condivisi-NomosAI/Test Gold Standard/39/39_202402475_01.html\n",
            "\n",
            "Elaboro file: /gdrive/MyDrive/Docs-Condivisi-NomosAI/Test Gold Standard/37/37_202400284_08.html\n",
            "\n",
            "Elaboro file: /gdrive/MyDrive/Docs-Condivisi-NomosAI/Test Gold Standard/4/04_202318790_01.html\n",
            "\n",
            "Elaboro file: /gdrive/MyDrive/Docs-Condivisi-NomosAI/Test Gold Standard/28/28_202403833_11.html\n",
            "\n",
            "Elaboro file: /gdrive/MyDrive/Docs-Condivisi-NomosAI/Test Gold Standard/30/30_202400007_11.html\n",
            "\n",
            "Elaboro file: /gdrive/MyDrive/Docs-Condivisi-NomosAI/Test Gold Standard/34/34_202400006_11.html\n",
            "\n",
            "Elaboro file: /gdrive/MyDrive/Docs-Condivisi-NomosAI/Test Gold Standard/29/29_202403780_11.html\n",
            "\n",
            "Elaboro file: /gdrive/MyDrive/Docs-Condivisi-NomosAI/Test Gold Standard/32/32_202400259_01.html\n",
            "\n",
            "Elaboro file: /gdrive/MyDrive/Docs-Condivisi-NomosAI/Test Gold Standard/36/36_202308100_11.html\n",
            "\n",
            "Elaboro file: /gdrive/MyDrive/Docs-Condivisi-NomosAI/Test Gold Standard/33/33_202403645_11.html\n",
            "\n",
            "Elaboro file: /gdrive/MyDrive/Docs-Condivisi-NomosAI/Test Gold Standard/3/03_202404349_11.html\n",
            "\n",
            "Elaboro file: /gdrive/MyDrive/Docs-Condivisi-NomosAI/Test Gold Standard/31/31_202403641_11.html\n",
            "\n",
            "Elaboro file: /gdrive/MyDrive/Docs-Condivisi-NomosAI/Test Gold Standard/35/35_202403522_11.html\n",
            "\n",
            "Elaboro file: /gdrive/MyDrive/Docs-Condivisi-NomosAI/Test Gold Standard/24/24_202309849_11.html\n",
            "\n",
            "Elaboro file: /gdrive/MyDrive/Docs-Condivisi-NomosAI/Test Gold Standard/22/22_202402255_11.html\n",
            "\n",
            "ERRORE sentenza: /gdrive/MyDrive/Docs-Condivisi-NomosAI/Test Gold Standard/22/22_202402255_11.html MODEL: claude-3-sonnet@20240229+ PROMPT: system_message_E.txt\n",
            "\n",
            "An error occurred: Error code: 400 - {'type': 'error', 'error': {'type': 'invalid_request_error', 'message': 'messages.0: all messages must have non-empty content except for the optional final assistant message'}}\n",
            "ERRORE sentenza: /gdrive/MyDrive/Docs-Condivisi-NomosAI/Test Gold Standard/22/22_202402255_11.html MODEL: claude-3-haiku@20240307+ PROMPT: system_message_E.txt\n",
            "\n",
            "An error occurred: Error code: 400 - {'type': 'error', 'error': {'type': 'invalid_request_error', 'message': 'messages.0: all messages must have non-empty content except for the optional final assistant message'}}\n",
            "Elaboro file: /gdrive/MyDrive/Docs-Condivisi-NomosAI/Test Gold Standard/2/02_202409681_08.html\n",
            "\n",
            "Elaboro file: /gdrive/MyDrive/Docs-Condivisi-NomosAI/Test Gold Standard/20/20_202403945_11.html\n",
            "\n",
            "Elaboro file: /gdrive/MyDrive/Docs-Condivisi-NomosAI/Test Gold Standard/21/21_202309842_11.html\n",
            "\n",
            "Elaboro file: /gdrive/MyDrive/Docs-Condivisi-NomosAI/Test Gold Standard/19/19_202400365_01.html\n",
            "\n",
            "Elaboro file: /gdrive/MyDrive/Docs-Condivisi-NomosAI/Test Gold Standard/25/25_202402825_20.html\n",
            "\n",
            "Elaboro file: /gdrive/MyDrive/Docs-Condivisi-NomosAI/Test Gold Standard/27/27_202403838_18.html\n",
            "\n",
            "Elaboro file: /gdrive/MyDrive/Docs-Condivisi-NomosAI/Test Gold Standard/26/26_202403848_11.html\n",
            "\n",
            "Elaboro file: /gdrive/MyDrive/Docs-Condivisi-NomosAI/Test Gold Standard/23/23_202403858_11.html\n",
            "\n",
            "Elaboro file: /gdrive/MyDrive/Docs-Condivisi-NomosAI/Test Gold Standard/16/16_202409124_08.html\n",
            "\n",
            "Elaboro file: /gdrive/MyDrive/Docs-Condivisi-NomosAI/Test Gold Standard/12/12_202404207_18.html\n",
            "\n",
            "Elaboro file: /gdrive/MyDrive/Docs-Condivisi-NomosAI/Test Gold Standard/1/01_202401843_08.html\n",
            "\n",
            "Elaboro file: /gdrive/MyDrive/Docs-Condivisi-NomosAI/Test Gold Standard/11/11_202404206_11.html\n",
            "\n",
            "Elaboro file: /gdrive/MyDrive/Docs-Condivisi-NomosAI/Test Gold Standard/18/18_202400011_11.html\n",
            "\n",
            "Elaboro file: /gdrive/MyDrive/Docs-Condivisi-NomosAI/Test Gold Standard/17/17_202404112_11.html\n",
            "\n",
            "Elaboro file: /gdrive/MyDrive/Docs-Condivisi-NomosAI/Test Gold Standard/14/14_202404278_11.html\n",
            "\n",
            "Elaboro file: /gdrive/MyDrive/Docs-Condivisi-NomosAI/Test Gold Standard/13/13_202404247_11.html\n",
            "\n",
            "Elaboro file: /gdrive/MyDrive/Docs-Condivisi-NomosAI/Test Gold Standard/15/15_202409315_01.html\n",
            "\n",
            "Elaboro file: /gdrive/MyDrive/Docs-Condivisi-NomosAI/Test Gold Standard/10/10_Cons. Stato, sez. VI, ord. 9 maggio 2024, n. 4196 – Pres. Simonetti, Est. Pascuzzi.html\n",
            "\n"
          ]
        }
      ]
    },
    {
      "cell_type": "markdown",
      "source": [
        "### secondo job per Opus"
      ],
      "metadata": {
        "id": "xv6pFO8fnBIw"
      }
    },
    {
      "cell_type": "code",
      "source": [
        "config= {\n",
        "    \"massime_path\": \"/gdrive/MyDrive/Massime/test12\",#\"/gdrive/MyDrive/NomosAI/Massime\",\n",
        "    \"sentenze_path\": \"/gdrive/MyDrive/Docs-Condivisi-NomosAI/Test Gold Standard\", #\"/gdrive/MyDrive/NomosAI/Sentenze\",\n",
        "    \"prompt_path\":\"/gdrive/MyDrive/Prompt\",\n",
        "    \"models\":[\"claude-3-opus@20240229\"], #,\"claude-3-haiku@20240307\"], #\"claude-3-opus@20240229\"\n",
        "    \"prompts\":[\"system_message_E.txt\"],#[\"system_message_A.txt\",\"system_message_B.txt\",\"system_message_C.txt\"],\n",
        "    \"debug\": False\n",
        "}"
      ],
      "metadata": {
        "id": "eDTRU67um2hc"
      },
      "execution_count": 41,
      "outputs": []
    },
    {
      "cell_type": "code",
      "execution_count": 42,
      "metadata": {
        "id": "C4sAktN2nX4K"
      },
      "outputs": [],
      "source": [
        "MODEL = \"claude-3-opus@20240229\"  # @param [\"claude-3-sonnet@20240229\", \"claude-3-haiku@20240307\", \"claude-3-opus@20240229\"]\n",
        "if MODEL == \"claude-3-sonnet@20240229\":\n",
        "    available_regions = [\"us-central1\", \"asia-southeast1\"]\n",
        "elif MODEL == \"claude-3-haiku@20240307\":\n",
        "    available_regions = [\"us-central1\", \"europe-west4\"]\n",
        "else:\n",
        "    available_regions = [\"us-east5\"]"
      ]
    },
    {
      "cell_type": "code",
      "source": [
        "MODEL = \"claude-3-opus@20240229\"\n",
        "REGION = \"us-east5\""
      ],
      "metadata": {
        "id": "Ov9X3xQ97E26"
      },
      "execution_count": 43,
      "outputs": []
    },
    {
      "cell_type": "code",
      "source": [
        "from bs4 import BeautifulSoup\n",
        "import time\n",
        "\n",
        "import os\n",
        "for radice, cartelle, file in os.walk(config[\"sentenze_path\"]):\n",
        "    for f in file:\n",
        "      if f.endswith('.html'):\n",
        "        percorso_file = os.path.join(radice, f)\n",
        "        with open(percorso_file, 'r', encoding='utf-8') as fh:\n",
        "          sentenza = fh.read()\n",
        "\n",
        "          print(\"Elaboro file: \"+ percorso_file + \"\\n\")\n",
        "\n",
        "          soup = BeautifulSoup(sentenza, 'html.parser')\n",
        "\n",
        "          # Estrai il testo da tutti i tag\n",
        "          testoSentenza = ''\n",
        "          for paragrafo in soup.find_all('p'):\n",
        "              testoSentenza += paragrafo.text + '\\n'\n",
        "\n",
        "          save_output_as_text_file(f+\"_TESTO_SENTENZA\",testoSentenza)\n",
        "\n",
        "          for prompt_file in config[\"prompts\"]:\n",
        "            for model in config[\"models\"]:\n",
        "              try:\n",
        "                time.sleep(30)\n",
        "                genera_massima_anthropic(prompt_file,testoSentenza,model,f)\n",
        "              except Exception as e:\n",
        "                print(\"ERRORE sentenza: \"+ percorso_file + \" MODEL: \"+model+\"+ PROMPT: \"+ prompt_file +\"\\n\")\n",
        "                print(f\"An error occurred: {e}\")"
      ],
      "metadata": {
        "colab": {
          "base_uri": "https://localhost:8080/"
        },
        "id": "715Q0khXm_k3",
        "outputId": "924b9a56-bc09-4962-cdf1-898fdec1cbda"
      },
      "execution_count": 44,
      "outputs": [
        {
          "output_type": "stream",
          "name": "stdout",
          "text": [
            "Elaboro file: /gdrive/MyDrive/Docs-Condivisi-NomosAI/Test Gold Standard/84/84_202400003_11.html\n",
            "\n",
            "Elaboro file: /gdrive/MyDrive/Docs-Condivisi-NomosAI/Test Gold Standard/87/87_202400797_01.html\n",
            "\n",
            "Elaboro file: /gdrive/MyDrive/Docs-Condivisi-NomosAI/Test Gold Standard/85/85_202400419_01.html\n",
            "\n",
            "Elaboro file: /gdrive/MyDrive/Docs-Condivisi-NomosAI/Test Gold Standard/82/82_202400894_15.html\n",
            "\n",
            "Elaboro file: /gdrive/MyDrive/Docs-Condivisi-NomosAI/Test Gold Standard/89/89_202402196_11.html\n",
            "\n",
            "Elaboro file: /gdrive/MyDrive/Docs-Condivisi-NomosAI/Test Gold Standard/9/09_202404155_11.html\n",
            "\n",
            "Elaboro file: /gdrive/MyDrive/Docs-Condivisi-NomosAI/Test Gold Standard/83/83_202400954_01.html\n",
            "\n",
            "Elaboro file: /gdrive/MyDrive/Docs-Condivisi-NomosAI/Test Gold Standard/86/86_202402251_23.html\n",
            "\n",
            "Elaboro file: /gdrive/MyDrive/Docs-Condivisi-NomosAI/Test Gold Standard/90/90_202402227_11.html\n",
            "\n",
            "Elaboro file: /gdrive/MyDrive/Docs-Condivisi-NomosAI/Test Gold Standard/88/88_202402255_11.html\n",
            "\n",
            "Elaboro file: /gdrive/MyDrive/Docs-Condivisi-NomosAI/Test Gold Standard/79/79_202402395_11.html\n",
            "\n",
            "ERRORE sentenza: /gdrive/MyDrive/Docs-Condivisi-NomosAI/Test Gold Standard/79/79_202402395_11.html MODEL: claude-3-opus@20240229+ PROMPT: system_message_E.txt\n",
            "\n",
            "An error occurred: Error code: 429 - {'error': {'code': 429, 'message': 'Quota exceeded for aiplatform.googleapis.com/online_prediction_tokens_per_minute_per_base_model with base model: anthropic-claude-3-opus. Please submit a quota increase request. https://cloud.google.com/vertex-ai/docs/generative-ai/quotas-genai.', 'status': 'RESOURCE_EXHAUSTED'}}\n",
            "Elaboro file: /gdrive/MyDrive/Docs-Condivisi-NomosAI/Test Gold Standard/76/76_202400566_20.html\n",
            "\n",
            "Elaboro file: /gdrive/MyDrive/Docs-Condivisi-NomosAI/Test Gold Standard/74/74_202318854_01.html\n",
            "\n",
            "Elaboro file: /gdrive/MyDrive/Docs-Condivisi-NomosAI/Test Gold Standard/75/75_202404349_11.html\n",
            "\n",
            "Elaboro file: /gdrive/MyDrive/Docs-Condivisi-NomosAI/Test Gold Standard/8/08_202401696_01.html\n",
            "\n",
            "Elaboro file: /gdrive/MyDrive/Docs-Condivisi-NomosAI/Test Gold Standard/77/77_202402454_11.html\n",
            "\n",
            "Elaboro file: /gdrive/MyDrive/Docs-Condivisi-NomosAI/Test Gold Standard/78/78_202402413_11.html\n",
            "\n",
            "Elaboro file: /gdrive/MyDrive/Docs-Condivisi-NomosAI/Test Gold Standard/80/80_202400953_01.html\n",
            "\n",
            "Elaboro file: /gdrive/MyDrive/Docs-Condivisi-NomosAI/Test Gold Standard/73/73_202402556_18.html\n",
            "\n",
            "ERRORE sentenza: /gdrive/MyDrive/Docs-Condivisi-NomosAI/Test Gold Standard/73/73_202402556_18.html MODEL: claude-3-opus@20240229+ PROMPT: system_message_E.txt\n",
            "\n",
            "An error occurred: Error code: 429 - {'error': {'code': 429, 'message': 'Quota exceeded for aiplatform.googleapis.com/online_prediction_tokens_per_minute_per_base_model with base model: anthropic-claude-3-opus. Please submit a quota increase request. https://cloud.google.com/vertex-ai/docs/generative-ai/quotas-genai.', 'status': 'RESOURCE_EXHAUSTED'}}\n",
            "Elaboro file: /gdrive/MyDrive/Docs-Condivisi-NomosAI/Test Gold Standard/81/81_202400458_01.html\n",
            "\n",
            "Elaboro file: /gdrive/MyDrive/Docs-Condivisi-NomosAI/Test Gold Standard/64/64_202400004_11.html\n",
            "\n",
            "Elaboro file: /gdrive/MyDrive/Docs-Condivisi-NomosAI/Test Gold Standard/69/69_202402567_11.html\n",
            "\n",
            "Elaboro file: /gdrive/MyDrive/Docs-Condivisi-NomosAI/Test Gold Standard/7/07_202400144_01.html\n",
            "\n",
            "Elaboro file: /gdrive/MyDrive/Docs-Condivisi-NomosAI/Test Gold Standard/71/71_202402606_11.html\n",
            "\n",
            "Elaboro file: /gdrive/MyDrive/Docs-Condivisi-NomosAI/Test Gold Standard/72/72_202402515_11.html\n",
            "\n",
            "Elaboro file: /gdrive/MyDrive/Docs-Condivisi-NomosAI/Test Gold Standard/66/66_202403203_11.html\n",
            "\n",
            "ERRORE sentenza: /gdrive/MyDrive/Docs-Condivisi-NomosAI/Test Gold Standard/66/66_202403203_11.html MODEL: claude-3-opus@20240229+ PROMPT: system_message_E.txt\n",
            "\n",
            "An error occurred: Error code: 429 - {'error': {'code': 429, 'message': 'Quota exceeded for aiplatform.googleapis.com/online_prediction_tokens_per_minute_per_base_model with base model: anthropic-claude-3-opus. Please submit a quota increase request. https://cloud.google.com/vertex-ai/docs/generative-ai/quotas-genai.', 'status': 'RESOURCE_EXHAUSTED'}}\n",
            "Elaboro file: /gdrive/MyDrive/Docs-Condivisi-NomosAI/Test Gold Standard/65/65_202403266_11.html\n",
            "\n",
            "Elaboro file: /gdrive/MyDrive/Docs-Condivisi-NomosAI/Test Gold Standard/67/67_202402694_11.html\n",
            "\n",
            "Elaboro file: /gdrive/MyDrive/Docs-Condivisi-NomosAI/Test Gold Standard/68/68_202402679_11.html\n",
            "\n",
            "Elaboro file: /gdrive/MyDrive/Docs-Condivisi-NomosAI/Test Gold Standard/70/70_202300414_16.html\n",
            "\n",
            "Elaboro file: /gdrive/MyDrive/Docs-Condivisi-NomosAI/Test Gold Standard/56/56_202310965_11.html\n",
            "\n",
            "Elaboro file: /gdrive/MyDrive/Docs-Condivisi-NomosAI/Test Gold Standard/57/57_202403007_11.html\n",
            "\n",
            "Elaboro file: /gdrive/MyDrive/Docs-Condivisi-NomosAI/Test Gold Standard/61/61_202400254_01.html\n",
            "\n",
            "Elaboro file: /gdrive/MyDrive/Docs-Condivisi-NomosAI/Test Gold Standard/55/55_202403105_11.html\n",
            "\n",
            "Elaboro file: /gdrive/MyDrive/Docs-Condivisi-NomosAI/Test Gold Standard/62/62_202400005_18.html\n",
            "\n",
            "Elaboro file: /gdrive/MyDrive/Docs-Condivisi-NomosAI/Test Gold Standard/6/06_202404321_11.html\n",
            "\n",
            "Elaboro file: /gdrive/MyDrive/Docs-Condivisi-NomosAI/Test Gold Standard/63/63_202402407_01.html\n",
            "\n",
            "Elaboro file: /gdrive/MyDrive/Docs-Condivisi-NomosAI/Test Gold Standard/58/58_202402964_11.html\n",
            "\n",
            "Elaboro file: /gdrive/MyDrive/Docs-Condivisi-NomosAI/Test Gold Standard/59/59_202400233_11.html\n",
            "\n",
            "Elaboro file: /gdrive/MyDrive/Docs-Condivisi-NomosAI/Test Gold Standard/60/60_202310976_11.html\n",
            "\n",
            "Elaboro file: /gdrive/MyDrive/Docs-Condivisi-NomosAI/Test Gold Standard/53/53_202403164_11.html\n",
            "\n",
            "Elaboro file: /gdrive/MyDrive/Docs-Condivisi-NomosAI/Test Gold Standard/5/05_202400364_18.html\n",
            "\n",
            "Elaboro file: /gdrive/MyDrive/Docs-Condivisi-NomosAI/Test Gold Standard/47/47_202402798_11.html\n",
            "\n",
            "Elaboro file: /gdrive/MyDrive/Docs-Condivisi-NomosAI/Test Gold Standard/54/54_202403095_11.html\n",
            "\n",
            "ERRORE sentenza: /gdrive/MyDrive/Docs-Condivisi-NomosAI/Test Gold Standard/54/54_202403095_11.html MODEL: claude-3-opus@20240229+ PROMPT: system_message_E.txt\n",
            "\n",
            "An error occurred: Error code: 429 - {'error': {'code': 429, 'message': 'Quota exceeded for aiplatform.googleapis.com/online_prediction_tokens_per_minute_per_base_model with base model: anthropic-claude-3-opus. Please submit a quota increase request. https://cloud.google.com/vertex-ai/docs/generative-ai/quotas-genai.', 'status': 'RESOURCE_EXHAUSTED'}}\n",
            "Elaboro file: /gdrive/MyDrive/Docs-Condivisi-NomosAI/Test Gold Standard/52/52_202403126_18.html\n",
            "\n",
            "Elaboro file: /gdrive/MyDrive/Docs-Condivisi-NomosAI/Test Gold Standard/50/50_202403194_11.html\n",
            "\n",
            "ERRORE sentenza: /gdrive/MyDrive/Docs-Condivisi-NomosAI/Test Gold Standard/50/50_202403194_11.html MODEL: claude-3-opus@20240229+ PROMPT: system_message_E.txt\n",
            "\n",
            "An error occurred: Error code: 429 - {'error': {'code': 429, 'message': 'Quota exceeded for aiplatform.googleapis.com/online_prediction_tokens_per_minute_per_base_model with base model: anthropic-claude-3-opus. Please submit a quota increase request. https://cloud.google.com/vertex-ai/docs/generative-ai/quotas-genai.', 'status': 'RESOURCE_EXHAUSTED'}}\n",
            "Elaboro file: /gdrive/MyDrive/Docs-Condivisi-NomosAI/Test Gold Standard/51/51_202400625_08.html\n",
            "\n",
            "Elaboro file: /gdrive/MyDrive/Docs-Condivisi-NomosAI/Test Gold Standard/48/48_202402791_11.html\n",
            "\n",
            "Elaboro file: /gdrive/MyDrive/Docs-Condivisi-NomosAI/Test Gold Standard/46/46_202400243_01.html\n",
            "\n",
            "Elaboro file: /gdrive/MyDrive/Docs-Condivisi-NomosAI/Test Gold Standard/49/49_202310974_11.html\n",
            "\n",
            "Elaboro file: /gdrive/MyDrive/Docs-Condivisi-NomosAI/Test Gold Standard/42/42_202402882_11.html\n",
            "\n",
            "Elaboro file: /gdrive/MyDrive/Docs-Condivisi-NomosAI/Test Gold Standard/43/43_202402866_11.html\n",
            "\n",
            "Elaboro file: /gdrive/MyDrive/Docs-Condivisi-NomosAI/Test Gold Standard/40/40_202300212_08.html\n",
            "\n",
            "Elaboro file: /gdrive/MyDrive/Docs-Condivisi-NomosAI/Test Gold Standard/38/38_202400258_01.html\n",
            "\n",
            "Elaboro file: /gdrive/MyDrive/Docs-Condivisi-NomosAI/Test Gold Standard/44/44_202402815_11.html\n",
            "\n",
            "Elaboro file: /gdrive/MyDrive/Docs-Condivisi-NomosAI/Test Gold Standard/41/41_202402905_11.html\n",
            "\n",
            "Elaboro file: /gdrive/MyDrive/Docs-Condivisi-NomosAI/Test Gold Standard/45/45_202403305_11.html\n",
            "\n",
            "Elaboro file: /gdrive/MyDrive/Docs-Condivisi-NomosAI/Test Gold Standard/39/39_202402475_01.html\n",
            "\n",
            "Elaboro file: /gdrive/MyDrive/Docs-Condivisi-NomosAI/Test Gold Standard/37/37_202400284_08.html\n",
            "\n",
            "Elaboro file: /gdrive/MyDrive/Docs-Condivisi-NomosAI/Test Gold Standard/4/04_202318790_01.html\n",
            "\n",
            "Elaboro file: /gdrive/MyDrive/Docs-Condivisi-NomosAI/Test Gold Standard/28/28_202403833_11.html\n",
            "\n",
            "Elaboro file: /gdrive/MyDrive/Docs-Condivisi-NomosAI/Test Gold Standard/30/30_202400007_11.html\n",
            "\n",
            "Elaboro file: /gdrive/MyDrive/Docs-Condivisi-NomosAI/Test Gold Standard/34/34_202400006_11.html\n",
            "\n",
            "ERRORE sentenza: /gdrive/MyDrive/Docs-Condivisi-NomosAI/Test Gold Standard/34/34_202400006_11.html MODEL: claude-3-opus@20240229+ PROMPT: system_message_E.txt\n",
            "\n",
            "An error occurred: Error code: 429 - {'error': {'code': 429, 'message': 'Quota exceeded for aiplatform.googleapis.com/online_prediction_tokens_per_minute_per_base_model with base model: anthropic-claude-3-opus. Please submit a quota increase request. https://cloud.google.com/vertex-ai/docs/generative-ai/quotas-genai.', 'status': 'RESOURCE_EXHAUSTED'}}\n",
            "Elaboro file: /gdrive/MyDrive/Docs-Condivisi-NomosAI/Test Gold Standard/29/29_202403780_11.html\n",
            "\n",
            "Elaboro file: /gdrive/MyDrive/Docs-Condivisi-NomosAI/Test Gold Standard/32/32_202400259_01.html\n",
            "\n",
            "Elaboro file: /gdrive/MyDrive/Docs-Condivisi-NomosAI/Test Gold Standard/36/36_202308100_11.html\n",
            "\n",
            "Elaboro file: /gdrive/MyDrive/Docs-Condivisi-NomosAI/Test Gold Standard/33/33_202403645_11.html\n",
            "\n",
            "Elaboro file: /gdrive/MyDrive/Docs-Condivisi-NomosAI/Test Gold Standard/3/03_202404349_11.html\n",
            "\n",
            "Elaboro file: /gdrive/MyDrive/Docs-Condivisi-NomosAI/Test Gold Standard/31/31_202403641_11.html\n",
            "\n",
            "Elaboro file: /gdrive/MyDrive/Docs-Condivisi-NomosAI/Test Gold Standard/35/35_202403522_11.html\n",
            "\n",
            "ERRORE sentenza: /gdrive/MyDrive/Docs-Condivisi-NomosAI/Test Gold Standard/35/35_202403522_11.html MODEL: claude-3-opus@20240229+ PROMPT: system_message_E.txt\n",
            "\n",
            "An error occurred: Error code: 429 - {'error': {'code': 429, 'message': 'Quota exceeded for aiplatform.googleapis.com/online_prediction_tokens_per_minute_per_base_model with base model: anthropic-claude-3-opus. Please submit a quota increase request. https://cloud.google.com/vertex-ai/docs/generative-ai/quotas-genai.', 'status': 'RESOURCE_EXHAUSTED'}}\n",
            "Elaboro file: /gdrive/MyDrive/Docs-Condivisi-NomosAI/Test Gold Standard/24/24_202309849_11.html\n",
            "\n",
            "Elaboro file: /gdrive/MyDrive/Docs-Condivisi-NomosAI/Test Gold Standard/22/22_202402255_11.html\n",
            "\n",
            "ERRORE sentenza: /gdrive/MyDrive/Docs-Condivisi-NomosAI/Test Gold Standard/22/22_202402255_11.html MODEL: claude-3-opus@20240229+ PROMPT: system_message_E.txt\n",
            "\n",
            "An error occurred: Error code: 400 - {'type': 'error', 'error': {'type': 'invalid_request_error', 'message': 'messages.0: all messages must have non-empty content except for the optional final assistant message'}}\n",
            "Elaboro file: /gdrive/MyDrive/Docs-Condivisi-NomosAI/Test Gold Standard/2/02_202409681_08.html\n",
            "\n",
            "Elaboro file: /gdrive/MyDrive/Docs-Condivisi-NomosAI/Test Gold Standard/20/20_202403945_11.html\n",
            "\n",
            "Elaboro file: /gdrive/MyDrive/Docs-Condivisi-NomosAI/Test Gold Standard/21/21_202309842_11.html\n",
            "\n",
            "ERRORE sentenza: /gdrive/MyDrive/Docs-Condivisi-NomosAI/Test Gold Standard/21/21_202309842_11.html MODEL: claude-3-opus@20240229+ PROMPT: system_message_E.txt\n",
            "\n",
            "An error occurred: Error code: 429 - {'error': {'code': 429, 'message': 'Quota exceeded for aiplatform.googleapis.com/online_prediction_tokens_per_minute_per_base_model with base model: anthropic-claude-3-opus. Please submit a quota increase request. https://cloud.google.com/vertex-ai/docs/generative-ai/quotas-genai.', 'status': 'RESOURCE_EXHAUSTED'}}\n",
            "Elaboro file: /gdrive/MyDrive/Docs-Condivisi-NomosAI/Test Gold Standard/19/19_202400365_01.html\n",
            "\n",
            "Elaboro file: /gdrive/MyDrive/Docs-Condivisi-NomosAI/Test Gold Standard/25/25_202402825_20.html\n",
            "\n",
            "ERRORE sentenza: /gdrive/MyDrive/Docs-Condivisi-NomosAI/Test Gold Standard/25/25_202402825_20.html MODEL: claude-3-opus@20240229+ PROMPT: system_message_E.txt\n",
            "\n",
            "An error occurred: Error code: 429 - {'error': {'code': 429, 'message': 'Quota exceeded for aiplatform.googleapis.com/online_prediction_tokens_per_minute_per_base_model with base model: anthropic-claude-3-opus. Please submit a quota increase request. https://cloud.google.com/vertex-ai/docs/generative-ai/quotas-genai.', 'status': 'RESOURCE_EXHAUSTED'}}\n",
            "Elaboro file: /gdrive/MyDrive/Docs-Condivisi-NomosAI/Test Gold Standard/27/27_202403838_18.html\n",
            "\n",
            "Elaboro file: /gdrive/MyDrive/Docs-Condivisi-NomosAI/Test Gold Standard/26/26_202403848_11.html\n",
            "\n",
            "Elaboro file: /gdrive/MyDrive/Docs-Condivisi-NomosAI/Test Gold Standard/23/23_202403858_11.html\n",
            "\n",
            "Elaboro file: /gdrive/MyDrive/Docs-Condivisi-NomosAI/Test Gold Standard/16/16_202409124_08.html\n",
            "\n",
            "Elaboro file: /gdrive/MyDrive/Docs-Condivisi-NomosAI/Test Gold Standard/12/12_202404207_18.html\n",
            "\n",
            "Elaboro file: /gdrive/MyDrive/Docs-Condivisi-NomosAI/Test Gold Standard/1/01_202401843_08.html\n",
            "\n",
            "ERRORE sentenza: /gdrive/MyDrive/Docs-Condivisi-NomosAI/Test Gold Standard/1/01_202401843_08.html MODEL: claude-3-opus@20240229+ PROMPT: system_message_E.txt\n",
            "\n",
            "An error occurred: Error code: 429 - {'error': {'code': 429, 'message': 'Quota exceeded for aiplatform.googleapis.com/online_prediction_tokens_per_minute_per_base_model with base model: anthropic-claude-3-opus. Please submit a quota increase request. https://cloud.google.com/vertex-ai/docs/generative-ai/quotas-genai.', 'status': 'RESOURCE_EXHAUSTED'}}\n",
            "Elaboro file: /gdrive/MyDrive/Docs-Condivisi-NomosAI/Test Gold Standard/11/11_202404206_11.html\n",
            "\n",
            "Elaboro file: /gdrive/MyDrive/Docs-Condivisi-NomosAI/Test Gold Standard/18/18_202400011_11.html\n",
            "\n",
            "ERRORE sentenza: /gdrive/MyDrive/Docs-Condivisi-NomosAI/Test Gold Standard/18/18_202400011_11.html MODEL: claude-3-opus@20240229+ PROMPT: system_message_E.txt\n",
            "\n",
            "An error occurred: Error code: 429 - {'error': {'code': 429, 'message': 'Quota exceeded for aiplatform.googleapis.com/online_prediction_tokens_per_minute_per_base_model with base model: anthropic-claude-3-opus. Please submit a quota increase request. https://cloud.google.com/vertex-ai/docs/generative-ai/quotas-genai.', 'status': 'RESOURCE_EXHAUSTED'}}\n",
            "Elaboro file: /gdrive/MyDrive/Docs-Condivisi-NomosAI/Test Gold Standard/17/17_202404112_11.html\n",
            "\n",
            "Elaboro file: /gdrive/MyDrive/Docs-Condivisi-NomosAI/Test Gold Standard/14/14_202404278_11.html\n",
            "\n",
            "ERRORE sentenza: /gdrive/MyDrive/Docs-Condivisi-NomosAI/Test Gold Standard/14/14_202404278_11.html MODEL: claude-3-opus@20240229+ PROMPT: system_message_E.txt\n",
            "\n",
            "An error occurred: Error code: 429 - {'error': {'code': 429, 'message': 'Quota exceeded for aiplatform.googleapis.com/online_prediction_tokens_per_minute_per_base_model with base model: anthropic-claude-3-opus. Please submit a quota increase request. https://cloud.google.com/vertex-ai/docs/generative-ai/quotas-genai.', 'status': 'RESOURCE_EXHAUSTED'}}\n",
            "Elaboro file: /gdrive/MyDrive/Docs-Condivisi-NomosAI/Test Gold Standard/13/13_202404247_11.html\n",
            "\n",
            "Elaboro file: /gdrive/MyDrive/Docs-Condivisi-NomosAI/Test Gold Standard/15/15_202409315_01.html\n",
            "\n",
            "Elaboro file: /gdrive/MyDrive/Docs-Condivisi-NomosAI/Test Gold Standard/10/10_Cons. Stato, sez. VI, ord. 9 maggio 2024, n. 4196 – Pres. Simonetti, Est. Pascuzzi.html\n",
            "\n",
            "ERRORE sentenza: /gdrive/MyDrive/Docs-Condivisi-NomosAI/Test Gold Standard/10/10_Cons. Stato, sez. VI, ord. 9 maggio 2024, n. 4196 – Pres. Simonetti, Est. Pascuzzi.html MODEL: claude-3-opus@20240229+ PROMPT: system_message_E.txt\n",
            "\n",
            "An error occurred: Error code: 429 - {'error': {'code': 429, 'message': 'Quota exceeded for aiplatform.googleapis.com/online_prediction_tokens_per_minute_per_base_model with base model: anthropic-claude-3-opus. Please submit a quota increase request. https://cloud.google.com/vertex-ai/docs/generative-ai/quotas-genai.', 'status': 'RESOURCE_EXHAUSTED'}}\n"
          ]
        }
      ]
    }
  ]
}